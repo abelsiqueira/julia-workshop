{
 "cells": [
  {
   "cell_type": "markdown",
   "metadata": {},
   "source": [
    "# Trabalhando bem\n",
    "\n",
    "Vamos abordar alguns aspectos de como fazer um algoritmo/pacote\n",
    "nos padrões esperados do Julia, e também um workflow para desenvolver\n",
    "um algoritmo rápido, e depois melhorá-lo."
   ]
  },
  {
   "cell_type": "markdown",
   "metadata": {},
   "source": [
    "## Um pacote\n",
    "\n",
    "Uma pacote em Julia, é um diretório com a configuração\n",
    "\n",
    " - NomeDoPacote.jl/\n",
    "   - src/\n",
    "     - NomeDoPacote.jl\n",
    "     - Outros arquivos\n",
    "   - test/\n",
    "     - runtests.jl\n",
    "     - Arquivos auxiliares de teste.\n",
    "   - README.md\n",
    "   - LICENSE.md\n",
    "   - .travis.yml\n",
    "   - Outros arquivos\n",
    "   \n",
    "Por mais incomum que seja, o nome do nosso pacote será o nome do diretório,\n",
    "**incluindo o .jl**. Além disso, esse mesmo nome será o nome do arquivo\n",
    "principal do pacote.\n",
    "\n",
    "Os arquivos do `src/` sozinhos não fazem nada. Eles declaram e definem as\n",
    "funções do pacote. O arquivo `test/` é quem chama o código, assim como\n",
    "o usuário chamaria. O arquivo `runtests.jl` é o arquivo chamado quando o\n",
    "usuário fizer `Pkg.test(\"NomeDoPacote\")`.\n",
    "No índice de pacotes é mostrado se esse teste é bem sucedido.\n",
    "\n",
    "O arquivo `README.md` é o arquivo principal de informação do seu pacote,\n",
    "e o arquivo `LICENSE.md` é o arquivo indicando qual a licensa do seu pacote.\n",
    "A licensa mais utilizada aqui é a MIT, mas outras podem ser utilizadas.\n",
    "\n",
    "O arquivo `.travis.yml` é um arquivo muito específico que roda os testes\n",
    "do seu pacote online. Ele exige configuração, e não vamos falar dele agora."
   ]
  },
  {
   "cell_type": "markdown",
   "metadata": {},
   "source": [
    "## NomeDoPacote.jl\n",
    "\n",
    "O arquivo `NomeDoPacote.jl` é o arquivo principal do seu pacote.\n",
    "A maneira normal de começar é criar um módulo para seu código.\n",
    "\n",
    "````julia\n",
    "module NomeDoPacote\n",
    "\n",
    "...\n",
    "\n",
    "end\n",
    "````"
   ]
  },
  {
   "cell_type": "markdown",
   "metadata": {},
   "source": [
    "Dentro desse módulo, normalmente incluímos códigos auxiliares. Por exemplo, vamos colocar a busca linear num\n",
    "arquivo separado `buscaLinear.jl`. Então colocamos `include(\"buscaLinear.jl\")`.\n",
    "\n",
    "Agora criamos a nossa função `metodo_gradiente` e colocamos um comando\n",
    "`export metodo_gradiente` para que usuários possam usar essa função."
   ]
  },
  {
   "cell_type": "markdown",
   "metadata": {},
   "source": [
    "Agora criamos algum teste para nosso código. Vamos criar o arquivo\n",
    "`teste_quad.jl` contendo testes de funções quadráticas, e o no arquivo\n",
    "`runtests.jl` colocamos `include(\"teste_quad.jl\")`."
   ]
  },
  {
   "cell_type": "markdown",
   "metadata": {},
   "source": [
    "Veja o MetodoGradiente.jl."
   ]
  },
  {
   "cell_type": "markdown",
   "metadata": {},
   "source": [
    "## Workflow de um código de otimização\n",
    "\n",
    "Até bem pouco tempo, tínhamos duas opções de implementações\n",
    "de algoritmos de otimização\n",
    "\n",
    " - C/Fortran: Um algoritmo rápido, competitivo, porém trabalhoso de fazer e usar;\n",
    " - MatLab: Um algoritmo fácil de escrever, porém limitado em alguns aspectos de velocidade e liberdade de uso.\n",
    "\n",
    "O Python criou uma alternativa que não fui suficientemente adotada por não ser fácil o suficiente,\n",
    "mas com Julia, temos uma oportunidade nova.\n",
    "\n",
    "O Julia permite uma implementação rápida, é livre, e tem uma velocidade boa.\n",
    "Além disse, permite uma integração com C e Fortran muito maior, que pode ser feita gradualmente.\n",
    "Eventualmente, se necessário, pode-se fazer uma migração total.\n",
    "\n",
    "Esse paradigma funciona para quase qualquer tipo de aplicação em Julia,\n",
    "mas para otimização vamos ver como o CUTEst pode nos ajudar."
   ]
  },
  {
   "cell_type": "markdown",
   "metadata": {},
   "source": [
    "### Ponto inicial\n",
    "\n",
    "A primeira preocupação deve ser fazer o algoritmo funcionar.\n",
    "\n",
    " - Não se preocupe em deixar o código eficiente;\n",
    " - Não se preocupe com sistemas lineares;\n",
    " - Não se preocupe com BLAS\n",
    " - Não se preocupe com variáveis repetidas;\n",
    " - Não se preocupe com matrizes criadas à toa;\n",
    "\n",
    "Palavras do Donald Knuth:\n",
    "\n",
    "> Programmers waste enormous amounts of time thinking about, or worrying about, the speed of noncritical parts of their programs, and these attempts at efficiency actually have a strong negative impact when debugging and maintenance are considered. We should forget about small efficiencies, say about 97% of the time: **premature optimization is the root of all evil.** Yet we should not pass up our opportunities in that critical 3%.\n",
    "> - Structured Programming With Go To Statements\", Computing Surveys, Vol 6, No 4, December 1974 "
   ]
  },
  {
   "cell_type": "markdown",
   "metadata": {},
   "source": [
    "Escreva os testes, decida o que o código precisa resolver e implemente tudo.\n",
    "\n",
    " - Use chamadas de função explícitas;\n",
    " - Use `\\` para resolver sistemas;"
   ]
  },
  {
   "cell_type": "code",
   "execution_count": 28,
   "metadata": {
    "collapsed": false
   },
   "outputs": [
    {
     "data": {
      "text/plain": [
       "metodo_bfgs (generic function with 1 method)"
      ]
     },
     "execution_count": 28,
     "metadata": {},
     "output_type": "execute_result"
    }
   ],
   "source": [
    "function metodo_bfgs(f, ∇f, x₀; ϵ = 1e-4, α = 0.5, η = 0.5, kmax = 1000)\n",
    "    B = eye(length(x₀))\n",
    "    ef = 0\n",
    "    x = copy(x₀)\n",
    "    k = 0\n",
    "    while norm(∇f(x)) > ϵ\n",
    "        d = -B\\∇f(x)\n",
    "        dt∇f = dot(d,∇f(x))\n",
    "        t = 1.0\n",
    "        while f(x + t*d) > f(x) + α*t*dt∇f\n",
    "            t *= η\n",
    "        end\n",
    "        s = t*d\n",
    "        y = ∇f(x+s)- ∇f(x)\n",
    "        x = x + s\n",
    "        \n",
    "        k += 1\n",
    "        if k > kmax\n",
    "            ef = 1\n",
    "            break\n",
    "        end\n",
    "        \n",
    "        if dot(s,y) > 0.0\n",
    "            B = B + y*y'/dot(y,s) - B*s*s'*B/dot(s,B*s)\n",
    "        end\n",
    "    end\n",
    "    return x, f(x), ef, k\n",
    "end"
   ]
  },
  {
   "cell_type": "markdown",
   "metadata": {},
   "source": [
    "### CUTEst\n",
    "\n",
    "Seu código funciona? Teste com o CUTEst. Neste caso você pode usar as funções de nível usuário final ou nível intermediário."
   ]
  },
  {
   "cell_type": "code",
   "execution_count": 29,
   "metadata": {
    "collapsed": false
   },
   "outputs": [
    {
     "name": "stdout",
     "output_type": "stream",
     "text": [
      "\n",
      " Problem name: ROSENBR\n",
      "\n",
      " Double precision version will be formed\n",
      "\n",
      " The objective function uses 1 linear group\n",
      " The objective function uses 1 nonlinear group\n",
      " \n",
      " There are 2 free variables\n",
      " \n",
      " \n",
      " File successfully decoded\n",
      "x = [0.9999996948881412,0.9999993862916682], f(x) = 9.430756494150018e-14; ef = 0; k = 34\n"
     ]
    }
   ],
   "source": [
    "# Nível usuário final\n",
    "using CUTEst\n",
    "nlp = CUTEstModel(\"ROSENBR\")\n",
    "f(x) = obj(nlp, x)\n",
    "∇f(x) = grad(nlp, x)\n",
    "\n",
    "x, fx, ef, k = metodo_bfgs(f, ∇f, nlp.meta.x0, ϵ=1e-5, kmax=100000)\n",
    "println(\"x = $x, f(x) = $fx; ef = $ef; k = $k\")\n",
    "cutest_finalize(nlp)"
   ]
  },
  {
   "cell_type": "code",
   "execution_count": 30,
   "metadata": {
    "collapsed": false
   },
   "outputs": [
    {
     "name": "stdout",
     "output_type": "stream",
     "text": [
      "\n",
      " Problem name: ROSENBR\n",
      "\n",
      " Double precision version will be formed\n",
      "\n",
      " The objective function uses 1 linear group\n",
      " The objective function uses 1 nonlinear group\n",
      " \n",
      " There are 2 free variables\n",
      " \n",
      " \n",
      " File successfully decoded\n",
      "x = [0.9999996948881412,0.9999993862916682], f(x) = 9.430756494150018e-14; ef = 0; k = 34\n"
     ]
    }
   ],
   "source": [
    "# Nível intermediário\n",
    "using CUTEst\n",
    "nlp = CUTEstModel(\"ROSENBR\")\n",
    "f(x) = ufn(nlp, x)\n",
    "∇f(x) = ugr(nlp, x)\n",
    "\n",
    "x, fx, ef, k = metodo_bfgs(f, ∇f, nlp.meta.x0, ϵ=1e-5, kmax=100000)\n",
    "println(\"x = $x, f(x) = $fx; ef = $ef; k = $k\")\n",
    "cutest_finalize(nlp)"
   ]
  },
  {
   "cell_type": "markdown",
   "metadata": {},
   "source": [
    "#### Rodando para uma lista de problemas"
   ]
  },
  {
   "cell_type": "code",
   "execution_count": 31,
   "metadata": {
    "collapsed": false
   },
   "outputs": [
    {
     "name": "stdout",
     "output_type": "stream",
     "text": [
      "\n",
      " Problem name: ROSENBR\n",
      "\n",
      " Double precision version will be formed\n",
      "\n",
      " The objective function uses 1 linear group\n",
      " The objective function uses 1 nonlinear group\n",
      " \n",
      " There are 2 free variables\n",
      " \n",
      " \n",
      " File successfully decoded\n",
      "x = [0.9999996948881412,0.9999993862916682], f(x) = 9.430756494150018e-14; ef = 0; k = 34\n",
      "\n",
      " Problem name: BARD\n",
      "\n",
      " Double precision version will be formed\n",
      "\n",
      " The objective function uses 15 nonlinear groups\n",
      " \n",
      " There are 3 free variables\n",
      " \n",
      " \n",
      " File successfully decoded\n",
      "x = [0.08241305128208425,1.1331146993324164,2.3436197365623053], f(x) = 0.008214877350822292; ef = 0; k = 18\n",
      "\n",
      " Problem name: HS1\n",
      "\n",
      " Double precision version will be formed\n",
      "\n",
      " The objective function uses 2 nonlinear groups\n",
      " \n",
      " There is 1 free variable \n",
      " There is 1 variable bounded only from below \n",
      " \n",
      " \n",
      " File successfully decoded\n",
      "x = [0.9999999998916259,0.9999999997869166], f(x) = 1.3087971232937582e-20; ef = 0; k = 43\n"
     ]
    }
   ],
   "source": [
    "lista = [\"ROSENBR\", \"BARD\", \"HS1\"]\n",
    "\n",
    "for p in lista\n",
    "    nlp = CUTEstModel(p)\n",
    "    f(x) = ufn(nlp, x)\n",
    "    ∇f(x) = ugr(nlp, x)\n",
    "    x, fx, ef, k = metodo_bfgs(f, ∇f, nlp.meta.x0, ϵ=1e-5, kmax=1000)\n",
    "    println(\"x = $x, f(x) = $fx; ef = $ef; k = $k\")\n",
    "    cutest_finalize(nlp)\n",
    "end"
   ]
  },
  {
   "cell_type": "markdown",
   "metadata": {
    "collapsed": true
   },
   "source": [
    "### Melhorias\n",
    "\n",
    "Agora que temos um código e sabemos que ele funciona para alguns problemas (a lista pode ser maior), vamos fazer algumas melhorias."
   ]
  },
  {
   "cell_type": "markdown",
   "metadata": {},
   "source": [
    "#### Exception Handling\n",
    "\n",
    "Quase toda linguagem atual tem alguma maneira de lidar com exceções.\n",
    "Como `nlp` precisa ser finalizado, podemos fazer o seguinte"
   ]
  },
  {
   "cell_type": "code",
   "execution_count": 32,
   "metadata": {
    "collapsed": false
   },
   "outputs": [
    {
     "name": "stdout",
     "output_type": "stream",
     "text": [
      "\n",
      " Problem name: ROSENBR\n",
      "\n",
      " Double precision version will be formed\n",
      "\n",
      " The objective function uses 1 linear group\n",
      " The objective function uses 1 nonlinear group\n",
      " \n",
      " There are 2 free variables\n",
      " \n",
      " \n",
      " File successfully decoded\n",
      "x = [0.9999996948881412,0.9999993862916682], f(x) = 9.430756494150018e-14; ef = 0; k = 34\n",
      "\n",
      " Problem name: BARD\n",
      "\n",
      " Double precision version will be formed\n",
      "\n",
      " The objective function uses 15 nonlinear groups\n",
      " \n",
      " There are 3 free variables\n",
      " \n",
      " \n",
      " File successfully decoded\n",
      "x = [0.08241305128208425,1.1331146993324164,2.3436197365623053], f(x) = 0.008214877350822292; ef = 0; k = 18\n",
      "\n",
      " Problem name: HS1\n",
      "\n",
      " Double precision version will be formed\n",
      "\n",
      " The objective function uses 2 nonlinear groups\n",
      " \n",
      " There is 1 free variable \n",
      " There is 1 variable bounded only from below \n",
      " \n",
      " \n",
      " File successfully decoded\n",
      "x = [0.9999999998916259,0.9999999997869166], f(x) = 1.3087971232937582e-20; ef = 0; k = 43\n",
      "[0.006665945053100586,0.0010790824890136719,0.0016868114471435547]\n"
     ]
    }
   ],
   "source": [
    "lista = [\"ROSENBR\", \"BARD\", \"HS1\"]\n",
    "times = zeros(length(lista))\n",
    "\n",
    "for (i,p) in enumerate(lista)\n",
    "    nlp = CUTEstModel(p)\n",
    "    f(x) = ufn(nlp, x)\n",
    "    ∇f(x) = ugr(nlp, x)\n",
    "    try\n",
    "        times[i] = time()\n",
    "        x, fx, ef, k = metodo_bfgs(f, ∇f, nlp.meta.x0, ϵ=1e-5, kmax=1000)\n",
    "        times[i] = time() - times[i]\n",
    "        println(\"x = $x, f(x) = $fx; ef = $ef; k = $k\")\n",
    "    catch er\n",
    "        println(\"ERRO no problema $p:\", er)\n",
    "    finally\n",
    "        cutest_finalize(nlp)\n",
    "    end\n",
    "end\n",
    "println(times)"
   ]
  },
  {
   "cell_type": "markdown",
   "metadata": {},
   "source": [
    "#### Reaproveitar\n",
    "\n",
    " - Chamar `f(x)` toda vez é ruim.\n",
    " - Produtos internos\n",
    " - Bs = B*s"
   ]
  },
  {
   "cell_type": "code",
   "execution_count": 33,
   "metadata": {
    "collapsed": false
   },
   "outputs": [
    {
     "data": {
      "text/plain": [
       "metodo_bfgs (generic function with 1 method)"
      ]
     },
     "execution_count": 33,
     "metadata": {},
     "output_type": "execute_result"
    }
   ],
   "source": [
    "function metodo_bfgs(f, ∇f, x₀; ϵ = 1e-4, α = 0.5, η = 0.5, kmax = 1000)\n",
    "    B = eye(length(x₀))\n",
    "    ef = 0\n",
    "    x = copy(x₀)\n",
    "    fx = f(x)\n",
    "    ∇fx = ∇f(x)\n",
    "    k = 0\n",
    "    while norm(∇fx) > ϵ\n",
    "        d = -B\\∇fx\n",
    "        dt∇f = dot(d,∇fx)\n",
    "        t = 1.0\n",
    "        while f(x + t*d) > fx + α*t*dt∇f\n",
    "            t *= η\n",
    "        end\n",
    "        s = t*d\n",
    "        x = x + s\n",
    "        y = ∇fx # Não copia, só passa o ponteiro\n",
    "        fx = f(x)\n",
    "        ∇fx = ∇f(x)\n",
    "        y = ∇fx - y\n",
    "        \n",
    "        k += 1\n",
    "        if k > kmax\n",
    "            ef = 1\n",
    "            break\n",
    "        end\n",
    "        \n",
    "        sty = dot(s,y)\n",
    "        if sty > 0.0\n",
    "            Bs = B*s\n",
    "            B = B + y*y'/sty - Bs*Bs'/dot(s,Bs)\n",
    "        end\n",
    "    end\n",
    "    return x, fx, ef, k\n",
    "end"
   ]
  },
  {
   "cell_type": "code",
   "execution_count": 34,
   "metadata": {
    "collapsed": false
   },
   "outputs": [
    {
     "name": "stdout",
     "output_type": "stream",
     "text": [
      "\n",
      " Problem name: ROSENBR\n",
      "\n",
      " Double precision version will be formed\n",
      "\n",
      " The objective function uses 1 linear group\n",
      " The objective function uses 1 nonlinear group\n",
      " \n",
      " There are 2 free variables\n",
      " \n",
      " \n",
      " File successfully decoded\n",
      "x = [0.9999996948881872,0.9999993862917482], f(x) = 9.43075451728985e-14; ef = 0; k = 34\n",
      "\n",
      " Problem name: BARD\n",
      "\n",
      " Double precision version will be formed\n",
      "\n",
      " The objective function uses 15 nonlinear groups\n",
      " \n",
      " There are 3 free variables\n",
      " \n",
      " \n",
      " File successfully decoded\n",
      "x = [0.08241305128208426,1.1331146993324168,2.3436197365623053], f(x) = 0.008214877350822289; ef = 0; k = 18\n",
      "\n",
      " Problem name: HS1\n",
      "\n",
      " Double precision version will be formed\n",
      "\n",
      " The objective function uses 2 nonlinear groups\n",
      " \n",
      " There is 1 free variable \n",
      " There is 1 variable bounded only from below \n",
      " \n",
      " \n",
      " File successfully decoded\n",
      "x = [0.9999999998916259,0.9999999997869166], f(x) = 1.3087971232937582e-20; ef = 0; k = 43\n",
      "[0.07417082786560059,0.0004680156707763672,0.0009219646453857422]\n"
     ]
    }
   ],
   "source": [
    "lista = [\"ROSENBR\", \"BARD\", \"HS1\"]\n",
    "times = zeros(length(lista))\n",
    "\n",
    "for (i,p) in enumerate(lista)\n",
    "    nlp = CUTEstModel(p)\n",
    "    f(x) = ufn(nlp, x)\n",
    "    ∇f(x) = ugr(nlp, x)\n",
    "    try\n",
    "        times[i] = time()\n",
    "        x, fx, ef, k = metodo_bfgs(f, ∇f, nlp.meta.x0, ϵ=1e-5, kmax=1000)\n",
    "        times[i] = time() - times[i]\n",
    "        println(\"x = $x, f(x) = $fx; ef = $ef; k = $k\")\n",
    "    catch er\n",
    "        println(\"ERRO no problema $p:\", er)\n",
    "    finally\n",
    "        cutest_finalize(nlp)\n",
    "    end\n",
    "end\n",
    "println(times)"
   ]
  },
  {
   "cell_type": "code",
   "execution_count": null,
   "metadata": {
    "collapsed": true
   },
   "outputs": [],
   "source": []
  }
 ],
 "metadata": {
  "kernelspec": {
   "display_name": "Julia 0.4.1",
   "language": "julia",
   "name": "julia-0.4"
  },
  "language_info": {
   "file_extension": ".jl",
   "mimetype": "application/julia",
   "name": "julia",
   "version": "0.4.1"
  }
 },
 "nbformat": 4,
 "nbformat_minor": 0
}
