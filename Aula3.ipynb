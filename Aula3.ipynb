{
 "cells": [
  {
   "cell_type": "markdown",
   "metadata": {},
   "source": [
    "# Trabalhando bem\n",
    "\n",
    "Vamos abordar alguns aspectos de como fazer um algoritmo/pacote\n",
    "nos padrões esperados do Julia, e também um workflow para desenvolver\n",
    "um algoritmo rápido, e depois melhorá-lo."
   ]
  },
  {
   "cell_type": "markdown",
   "metadata": {},
   "source": [
    "## Um pacote\n",
    "\n",
    "Uma pacote em Julia, é um diretório com a configuração\n",
    "\n",
    " - NomeDoPacote.jl/\n",
    "   - src/\n",
    "     - NomeDoPacote.jl\n",
    "     - Outros arquivos\n",
    "   - test/\n",
    "     - runtests.jl\n",
    "     - Arquivos auxiliares de teste.\n",
    "   - README.md\n",
    "   - LICENSE.md\n",
    "   - .travis.yml\n",
    "   - Outros arquivos\n",
    "   \n",
    "Por mais incomum que seja, o nome do nosso pacote será o nome do diretório,\n",
    "**incluindo o .jl**. Além disso, esse mesmo nome será o nome do arquivo\n",
    "principal do pacote.\n",
    "\n",
    "Os arquivos do `src/` sozinhos não fazem nada. Eles declaram e definem as\n",
    "funções do pacote. O arquivo `test/` é quem chama o código, assim como\n",
    "o usuário chamaria. O arquivo `runtests.jl` é o arquivo chamado quando o\n",
    "usuário fizer `Pkg.test(\"NomeDoPacote\")`.\n",
    "No índice de pacotes é mostrado se esse teste é bem sucedido.\n",
    "\n",
    "O arquivo `README.md` é o arquivo principal de informação do seu pacote,\n",
    "e o arquivo `LICENSE.md` é o arquivo indicando qual a licensa do seu pacote.\n",
    "A licensa mais utilizada aqui é a MIT, mas outras podem ser utilizadas.\n",
    "\n",
    "O arquivo `.travis.yml` é um arquivo muito específico que roda os testes\n",
    "do seu pacote online. Ele exige configuração, e não vamos falar dele agora."
   ]
  },
  {
   "cell_type": "markdown",
   "metadata": {},
   "source": [
    "## NomeDoPacote.jl\n",
    "\n",
    "O arquivo `NomeDoPacote.jl` é o arquivo principal do seu pacote.\n",
    "A maneira normal de começar é criar um módulo para seu código.\n",
    "\n",
    "````julia\n",
    "module NomeDoPacote\n",
    "\n",
    "...\n",
    "\n",
    "end\n",
    "````"
   ]
  },
  {
   "cell_type": "markdown",
   "metadata": {},
   "source": [
    "Dentro desse módulo, normalmente incluímos códigos auxiliares. Por exemplo, vamos colocar a busca linear num\n",
    "arquivo separado `buscaLinear.jl`. Então colocamos `include(\"buscaLinear.jl\")`.\n",
    "\n",
    "Agora criamos a nossa função `metodo_gradiente` e colocamos um comando\n",
    "`export metodo_gradiente` para que usuários possam usar essa função."
   ]
  },
  {
   "cell_type": "markdown",
   "metadata": {},
   "source": [
    "Agora criamos algum teste para nosso código. Vamos criar o arquivo\n",
    "`teste_quad.jl` contendo testes de funções quadráticas, e o no arquivo\n",
    "`runtests.jl` colocamos `include(\"teste_quad.jl\")`."
   ]
  },
  {
   "cell_type": "markdown",
   "metadata": {},
   "source": [
    "Veja o MetodoGradiente.jl."
   ]
  },
  {
   "cell_type": "code",
   "execution_count": 4,
   "metadata": {
    "collapsed": false
   },
   "outputs": [
    {
     "name": "stdout",
     "output_type": "stream",
     "text": [
      "MetodoGradiente.jl:\n",
      "src\n",
      "test\n",
      "\n",
      "MetodoGradiente.jl/src:\n",
      "BuscaLinear.jl\n",
      "MetodoGradiente.jl\n",
      "\n",
      "MetodoGradiente.jl/test:\n",
      "runtests.jl\n",
      "test_quad.jl\n"
     ]
    }
   ],
   "source": [
    ";ls -R MetodoGradiente.jl"
   ]
  },
  {
   "cell_type": "markdown",
   "metadata": {},
   "source": [
    "## Workflow de um código de otimização\n",
    "\n",
    "Até bem pouco tempo, tínhamos duas opções de implementações\n",
    "de algoritmos de otimização\n",
    "\n",
    " - C/Fortran: Um algoritmo rápido, competitivo, porém trabalhoso de fazer e usar;\n",
    " - MatLab: Um algoritmo fácil de escrever, porém limitado em alguns aspectos de velocidade e liberdade de uso.\n",
    "\n",
    "O Python criou uma alternativa que não fui suficientemente adotada por não ser fácil o suficiente,\n",
    "mas com Julia, temos uma oportunidade nova.\n",
    "\n",
    "O Julia permite uma implementação rápida, é livre, e tem uma velocidade boa.\n",
    "Além disse, permite uma integração com C e Fortran muito maior, que pode ser feita gradualmente.\n",
    "Eventualmente, se necessário, pode-se fazer uma migração total.\n",
    "\n",
    "Esse paradigma funciona para quase qualquer tipo de aplicação em Julia,\n",
    "mas para otimização vamos ver como o CUTEst pode nos ajudar."
   ]
  },
  {
   "cell_type": "markdown",
   "metadata": {},
   "source": [
    "### Ponto inicial\n",
    "\n",
    "A primeira preocupação deve ser fazer o algoritmo funcionar.\n",
    "\n",
    " - Não se preocupe em deixar o código eficiente;\n",
    " - Não se preocupe com sistemas lineares;\n",
    " - Não se preocupe com BLAS\n",
    " - Não se preocupe com variáveis repetidas;\n",
    " - Não se preocupe com matrizes criadas à toa;\n",
    "\n",
    "Palavras do Donald Knuth:\n",
    "\n",
    "> Programmers waste enormous amounts of time thinking about, or worrying about, the speed of noncritical parts of their programs, and these attempts at efficiency actually have a strong negative impact when debugging and maintenance are considered. We should forget about small efficiencies, say about 97% of the time: **premature optimization is the root of all evil.** Yet we should not pass up our opportunities in that critical 3%.\n",
    "> - Structured Programming With Go To Statements\", Computing Surveys, Vol 6, No 4, December 1974 "
   ]
  },
  {
   "cell_type": "markdown",
   "metadata": {},
   "source": [
    "Escreva os testes, decida o que o código precisa resolver e implemente tudo.\n",
    "\n",
    " - Use chamadas de função explícitas;\n",
    " - Use `\\` para resolver sistemas;"
   ]
  },
  {
   "cell_type": "code",
   "execution_count": 33,
   "metadata": {
    "collapsed": false
   },
   "outputs": [
    {
     "data": {
      "text/plain": [
       "metodo_bfgs (generic function with 1 method)"
      ]
     },
     "execution_count": 33,
     "metadata": {},
     "output_type": "execute_result"
    }
   ],
   "source": [
    "function metodo_bfgs(f, ∇f, x₀; ϵ = 1e-4, α = 0.5, η = 0.5, kmax = 1000)\n",
    "    B = eye(length(x₀))\n",
    "    ef = 0\n",
    "    x = copy(x₀)\n",
    "    k = 0\n",
    "    while norm(∇f(x)) > ϵ\n",
    "        d = -B\\∇f(x)\n",
    "        dt∇f = dot(d,∇f(x))\n",
    "        t = 1.0\n",
    "        while f(x + t*d) > f(x) + α*t*dt∇f\n",
    "            t *= η\n",
    "        end\n",
    "        s = t*d\n",
    "        y = ∇f(x+s)- ∇f(x)\n",
    "        x = x + s\n",
    "        \n",
    "        k += 1\n",
    "        if k > kmax\n",
    "            ef = 1\n",
    "            break\n",
    "        end\n",
    "        \n",
    "        if dot(s,y) > 0.0\n",
    "            B = B + y*y'/dot(y,s) - B*s*s'*B/dot(s,B*s)\n",
    "        end\n",
    "    end\n",
    "    return x, f(x), ef, k\n",
    "end"
   ]
  },
  {
   "cell_type": "markdown",
   "metadata": {},
   "source": [
    "### CUTEst\n",
    "\n",
    "Seu código funciona? Teste com o CUTEst. Neste caso você pode usar as funções de nível usuário final ou nível intermediário."
   ]
  },
  {
   "cell_type": "code",
   "execution_count": 34,
   "metadata": {
    "collapsed": false
   },
   "outputs": [
    {
     "name": "stdout",
     "output_type": "stream",
     "text": [
      "x = [0.9999996948881412,0.9999993862916682], f(x) = 9.430756494150018e-14; ef = 0; k = 34\n"
     ]
    }
   ],
   "source": [
    "# Nível usuário final\n",
    "using CUTEst\n",
    "nlp = CUTEstModel(\"ROSENBR\")\n",
    "f(x) = obj(nlp, x)\n",
    "∇f(x) = grad(nlp, x)\n",
    "\n",
    "x, fx, ef, k = metodo_bfgs(f, ∇f, nlp.meta.x0, ϵ=1e-5, kmax=100000)\n",
    "println(\"x = $x, f(x) = $fx; ef = $ef; k = $k\")\n",
    "cutest_finalize(nlp)"
   ]
  },
  {
   "cell_type": "code",
   "execution_count": 35,
   "metadata": {
    "collapsed": false
   },
   "outputs": [],
   "source": [
    "# Nível intermediário\n",
    "using CUTEst\n",
    "nlp = CUTEstModel(\"ROSENBR\")\n",
    "f(x) = ufn(nlp, x)\n",
    "∇f(x) = ugr(nlp, x)\n",
    "\n",
    "x, fx, ef, k = metodo_bfgs(f, ∇f, nlp.meta.x0, ϵ=1e-5, kmax=100000)\n",
    "println(\"x = $x, f(x) = $fx; ef = $ef; k = $k\")\n",
    "cutest_finalize(nlp)"
   ]
  },
  {
   "cell_type": "markdown",
   "metadata": {},
   "source": [
    "#### Rodando para uma lista de problemas"
   ]
  },
  {
   "cell_type": "code",
   "execution_count": 36,
   "metadata": {
    "collapsed": false
   },
   "outputs": [
    {
     "name": "stdout",
     "output_type": "stream",
     "text": [
      "x = [0.9999996948881412,0.9999993862916682], f(x) = 9.430756494150018e-14; ef = 0; k = 34\n",
      "x = [0.9999996948881412,0.9999993862916682], f(x) = 9.430756494150018e-14; ef = 0; k = 34\n",
      "x = [0.08241305128208429,1.1331146993324175,2.343619736562304], f(x) = 0.008214877350822282; ef = 0; k = 18\n",
      "x = [1.459861381315666,0.0,0.08089056947684974,-0.8111127629456985], f(x) = 5.744384910322372; ef = 0; k = 13\n",
      "x = [0.9999993508975884,0.9999980594457627], f(x) = 4.2589253127599017e-13; ef = 0; k = 55\n",
      "x = [2.9999885924594127,0.4999972321719778], f(x) = 2.091480518781361e-11; ef = 0; k = 12\n"
     ]
    }
   ],
   "source": [
    "lista = [\"ROSENBR\", \"BARD\", \"ALLINITU\", \"CUBE\", \"BEALE\", \"OSCIPATH\"]\n",
    "\n",
    "for p in lista\n",
    "    nlp = CUTEstModel(p)\n",
    "    f(x) = ufn(nlp, x)\n",
    "    ∇f(x) = ugr(nlp, x)\n",
    "    x, fx, ef, k = metodo_bfgs(f, ∇f, nlp.meta.x0, ϵ=1e-5, kmax=1000)\n",
    "    println(\"x = $x, f(x) = $fx; ef = $ef; k = $k\")\n",
    "    cutest_finalize(nlp)\n",
    "end"
   ]
  },
  {
   "cell_type": "markdown",
   "metadata": {
    "collapsed": true
   },
   "source": [
    "### Melhorias\n",
    "\n",
    "Agora que temos um código e sabemos que ele funciona para alguns problemas (a lista pode ser maior), vamos fazer algumas melhorias."
   ]
  },
  {
   "cell_type": "markdown",
   "metadata": {},
   "source": [
    "#### Exception Handling\n",
    "\n",
    "Quase toda linguagem atual tem alguma maneira de lidar com exceções.\n",
    "Como `nlp` precisa ser finalizado, podemos fazer o seguinte"
   ]
  },
  {
   "cell_type": "code",
   "execution_count": 37,
   "metadata": {
    "collapsed": false
   },
   "outputs": [
    {
     "name": "stdout",
     "output_type": "stream",
     "text": [
      "x = [-0.9999333281751371,0.9999833321003804,0.9999958326256179,0.9999989565193412,0.9999997325791267,0.9999999069417307,0.9999998719228206,0.9999995487242608,0.9999982101015056,0.9999928439885907], f(x) = 0.9999666654928699; ef = 0; k = 11\n",
      "x = [0.9999996948881412,0.9999993862916682], f(x) = 9.430756494150018e-14; ef = 0; k = 34\n",
      "x = [0.08241305128208429,1.1331146993324175,2.343619736562304], f(x) = 0.008214877350822282; ef = 0; k = 18\n",
      "x = [1.4598611392227534,0.0,0.08089124534078221,-0.8111123290657675], f(x) = 5.744384910331394; ef = 0; k = 12\n",
      "x = [0.9999896122707613,0.9999689465124421], f(x) = 1.0910123939612766e-10; ef = 0; k = 51\n",
      "x = [2.9999885924594127,0.4999972321719778], f(x) = 2.091480518781361e-11; ef = 0; k = 12\n"
     ]
    }
   ],
   "source": [
    "for p in lista\n",
    "    nlp = CUTEstModel(p)\n",
    "    f(x) = ufn(nlp, x)\n",
    "    ∇f(x) = ugr(nlp, x)\n",
    "    try\n",
    "        x, fx, ef, k = metodo_bfgs(f, ∇f, nlp.meta.x0)\n",
    "        println(\"x = $x, f(x) = $fx; ef = $ef; k = $k\")\n",
    "    catch er\n",
    "        println(\"ERRO no problema $p:\", er)\n",
    "    finally\n",
    "        cutest_finalize(nlp)\n",
    "    end\n",
    "end"
   ]
  },
  {
   "cell_type": "markdown",
   "metadata": {},
   "source": [
    "#### Reaproveitar\n",
    "\n",
    " - Chamar `f(x)` e $\\nabla$`f(x)` toda vez é ruim.\n",
    " - Produtos internos\n",
    " - Bs = B*s"
   ]
  },
  {
   "cell_type": "code",
   "execution_count": 38,
   "metadata": {
    "collapsed": false
   },
   "outputs": [
    {
     "data": {
      "text/plain": [
       "metodo_bfgs2 (generic function with 1 method)"
      ]
     },
     "execution_count": 38,
     "metadata": {},
     "output_type": "execute_result"
    }
   ],
   "source": [
    "function metodo_bfgs2(f, ∇f, x₀; ϵ = 1e-4, α = 0.5, η = 0.5, kmax = 1000)\n",
    "    B = eye(length(x₀))\n",
    "    ef = 0\n",
    "    x = copy(x₀)\n",
    "    fx = f(x)\n",
    "    ∇fx = ∇f(x)\n",
    "    k = 0\n",
    "    while norm(∇fx) > ϵ\n",
    "        d = -B\\∇fx\n",
    "        dt∇f = dot(d,∇fx)\n",
    "        t = 1.0\n",
    "        while f(x + t*d) > fx + α*t*dt∇f\n",
    "            t *= η\n",
    "        end\n",
    "        s = t*d\n",
    "        x = x + s\n",
    "        y = ∇fx # Não copia, só passa o ponteiro\n",
    "        fx = f(x)\n",
    "        ∇fx = ∇f(x)\n",
    "        y = ∇fx - y\n",
    "        \n",
    "        k += 1\n",
    "        if k > kmax\n",
    "            ef = 1\n",
    "            break\n",
    "        end\n",
    "        \n",
    "        sty = dot(s,y)\n",
    "        if sty > 0.0\n",
    "            Bs = B*s\n",
    "            B = B + y*y'/sty - Bs*Bs'/dot(s,Bs)\n",
    "        end\n",
    "    end\n",
    "    return x, fx, ef, k\n",
    "end"
   ]
  },
  {
   "cell_type": "code",
   "execution_count": 39,
   "metadata": {
    "collapsed": false
   },
   "outputs": [
    {
     "name": "stdout",
     "output_type": "stream",
     "text": [
      "x = [-0.9999333281751371,0.9999833321003804,0.9999958326256179,0.9999989565193412,0.9999997325791267,0.9999999069417307,0.9999998719228206,0.9999995487242608,0.9999982101015056,0.9999928439885907], f(x) = 0.9999666654928699; ef = 0; k = 11\n",
      "x = [0.9999996948881872,0.9999993862917482], f(x) = 9.43075451728985e-14; ef = 0; k = 34\n",
      "x = [0.08241305128208423,1.1331146993324166,2.343619736562305], f(x) = 0.008214877350822271; ef = 0; k = 18\n",
      "x = [1.4598611392227536,0.0,0.08089124534078224,-0.8111123290657679], f(x) = 5.744384910331395; ef = 0; k = 12\n",
      "x = [0.9999896127140547,0.9999689476404822], f(x) = 1.0908761933602825e-10; ef = 0; k = 51\n",
      "x = [2.999988592459412,0.49999723217197745], f(x) = 2.0914805191053063e-11; ef = 0; k = 12\n"
     ]
    }
   ],
   "source": [
    "for p in lista\n",
    "    nlp = CUTEstModel(p)\n",
    "    f(x) = ufn(nlp, x)\n",
    "    ∇f(x) = ugr(nlp, x)\n",
    "    try\n",
    "        x, fx, ef, k = metodo_bfgs2(f, ∇f, nlp.meta.x0)\n",
    "        println(\"x = $x, f(x) = $fx; ef = $ef; k = $k\")\n",
    "    catch er\n",
    "        println(\"ERRO no problema $p:\", er)\n",
    "    finally\n",
    "        cutest_finalize(nlp)\n",
    "    end\n",
    "end"
   ]
  },
  {
   "cell_type": "code",
   "execution_count": 40,
   "metadata": {
    "collapsed": false
   },
   "outputs": [
    {
     "data": {
      "text/plain": [
       "roda_cutest (generic function with 1 method)"
      ]
     },
     "execution_count": 40,
     "metadata": {},
     "output_type": "execute_result"
    }
   ],
   "source": [
    "function roda_cutest(mtd; T = 1000)\n",
    "    lista = [\"ROSENBR\", \"BARD\", \"ALLINITU\", \"CUBE\", \"BEALE\", \"OSCIPATH\"]\n",
    "    tempos = zeros(length(lista))\n",
    "    for (i,p) in enumerate(lista)\n",
    "        nlp = CUTEstModel(p)\n",
    "        f(x) = ufn(nlp, x)\n",
    "        ∇f(x) = ugr(nlp, x)\n",
    "        try\n",
    "            x, fx, ef, k = mtd(f, ∇f, nlp.meta.x0, ϵ=1e-5, kmax=1000)\n",
    "            for j = 1:T\n",
    "                x, fx, ef, k = mtd(f, ∇f, nlp.meta.x0, ϵ=1e-5, kmax=1000)\n",
    "            end\n",
    "        catch er\n",
    "            println(\"ERRO no problema $p:\", er)\n",
    "        finally\n",
    "            cutest_finalize(nlp)\n",
    "        end\n",
    "    end\n",
    "end"
   ]
  },
  {
   "cell_type": "code",
   "execution_count": 41,
   "metadata": {
    "collapsed": false
   },
   "outputs": [
    {
     "name": "stdout",
     "output_type": "stream",
     "text": [
      "x = [-0.9999333281751371,0.9999833321003804,0.9999958326256179,0.9999989565193412,0.9999997325791267,0.9999999069417307,0.9999998719228206,0.9999995487242608,0.9999982101015056,0.9999928439885907], f(x) = 0.9999666654928699; ef = 0; k = 11\n",
      "  2.209770 seconds (16.94 M allocations: 975.564 MB, 6.46% gc time)\n",
      "  "
     ]
    }
   ],
   "source": [
    "for mtd in [metodo_bfgs, metodo_bfgs2]\n",
    "    roda_cutest(mtd, T=1)\n",
    "    @time roda_cutest(mtd)\n",
    "end"
   ]
  },
  {
   "cell_type": "markdown",
   "metadata": {},
   "source": [
    "#### Melhorias mais sérias\n",
    "\n",
    " - `B\\g`: Resolver o sistema assim não é uma boa. No entanto, se o sistema for\n",
    "  pequeno, e a matriz for densa, não faz quase diferença nenhuma. Então mantemos.\n",
    " - Atualização do BFGS: Cara de fazer (mas o problema é a matriz existir mesmo)"
   ]
  },
  {
   "cell_type": "code",
   "execution_count": 42,
   "metadata": {
    "collapsed": false
   },
   "outputs": [
    {
     "data": {
      "text/plain": [
       "metodo_bfgs3 (generic function with 1 method)"
      ]
     },
     "execution_count": 42,
     "metadata": {},
     "output_type": "execute_result"
    }
   ],
   "source": [
    "function metodo_bfgs3(f, ∇f, x₀; ϵ = 1e-4, α = 0.5, η = 0.5, kmax = 1000)\n",
    "    n = length(x₀)\n",
    "    B = eye(n)\n",
    "    ef = 0\n",
    "    x = copy(x₀)\n",
    "    fx = f(x)\n",
    "    ∇fx = ∇f(x)\n",
    "    k = 0\n",
    "    while norm(∇fx) > ϵ\n",
    "        d = -B\\∇fx\n",
    "        dt∇f = dot(d,∇fx)\n",
    "        t = 1.0\n",
    "        while f(x + t*d) > fx + α*t*dt∇f\n",
    "            t *= η\n",
    "        end\n",
    "        s = t*d\n",
    "        x = x + s\n",
    "        y = ∇fx # Não copia, só passa o ponteiro\n",
    "        fx = f(x)\n",
    "        ∇fx = ∇f(x)\n",
    "        y = ∇fx - y\n",
    "        \n",
    "        k += 1\n",
    "        if k > kmax\n",
    "            ef = 1\n",
    "            break\n",
    "        end\n",
    "        \n",
    "        sty = dot(s,y)\n",
    "        if sty > 0.0\n",
    "            Bs = B*s\n",
    "            stBs = dot(s,Bs)\n",
    "            for i = 1:n\n",
    "                B[i,i] += y[i]^2/sty - Bs[i]^2/stBs\n",
    "                for j = i+1:n\n",
    "                    B[i,j] = B[i,j] + y[i]*y[j]/sty - Bs[i]*Bs[j]/stBs\n",
    "                    B[j,i] = B[i,j]\n",
    "                end\n",
    "            end\n",
    "        end\n",
    "    end\n",
    "    return x, fx, ef, k\n",
    "end"
   ]
  },
  {
   "cell_type": "code",
   "execution_count": 60,
   "metadata": {
    "collapsed": false
   },
   "outputs": [
    {
     "name": "stdout",
     "output_type": "stream",
     "text": [
      "  2.207105 seconds (16.94 M allocations: 975.562 MB, 6.64% gc time)\n",
      "  1.435548 seconds (12.37 M allocations: 706.143 MB, 7.42% gc time)\n",
      "  1.501740 seconds (22.43 M allocations: 668.264 MB, 5.95% gc time)\n"
     ]
    }
   ],
   "source": [
    "for mtd in [metodo_bfgs, metodo_bfgs2, metodo_bfgs3]\n",
    "    roda_cutest(mtd, T=1)\n",
    "    @time roda_cutest(mtd)\n",
    "end"
   ]
  },
  {
   "cell_type": "markdown",
   "metadata": {},
   "source": [
    "### Inplace\n",
    "\n",
    "Como dissemos, o CUTEst tem várias interfaces. Uma que ajuda bastante é a interface *inplace*."
   ]
  },
  {
   "cell_type": "code",
   "execution_count": 44,
   "metadata": {
    "collapsed": false
   },
   "outputs": [
    {
     "data": {
      "text/latex": [
       "\\section{ugr}\n",
       "The ugr subroutine evaluates the gradient of the objective function of the problem decoded from a SIF file by the script sifdecoder at the point X. The problem under consideration is to minimize or maximize an objective function f(x) over all x ∈ Rn subject to the simple bounds xl≤x≤xu. The objective function is group-partially separable.\n",
       "This help was generated automatically and may contain errors. For more information, run the shell command\n",
       "\\begin{verbatim}\n",
       "man cutest_ugr\n",
       "\\end{verbatim}\n",
       "Usage:\n",
       "\\begin{verbatim}\n",
       "ugr(io_err, n, x, g)\n",
       "\\end{verbatim}\n",
       "\\begin{itemize}\n",
       "\\item io\\_err:  [OUT] Array\\{Cint, 1\\}\n",
       "\\item n:       [IN] Array\\{Cint, 1\\}\n",
       "\\item x:       [IN] Array\\{Cdouble, 1\\}\n",
       "\\item g:       [OUT] Array\\{Cdouble, 1\\}\n",
       "\\end{itemize}\n",
       "\\begin{verbatim}\n",
       "g = ugr(n, x)\n",
       "\\end{verbatim}\n",
       "\\begin{itemize}\n",
       "\\item n:       [IN] Int\n",
       "\\item x:       [IN] Array\\{Float64, 1\\}\n",
       "\\item g:       [OUT] Array\\{Float64, 1\\}\n",
       "\\end{itemize}\n",
       "\\begin{verbatim}\n",
       "ugr!(n, x, g)\n",
       "\\end{verbatim}\n",
       "\\begin{itemize}\n",
       "\\item n:       [IN] Int\n",
       "\\item x:       [IN] Array\\{Float64, 1\\}\n",
       "\\item g:       [OUT] Array\\{Float64, 1\\}\n",
       "\\end{itemize}\n",
       "\\begin{verbatim}\n",
       "g = ugr(nlp, x)\n",
       "\\end{verbatim}\n",
       "\\begin{itemize}\n",
       "\\item nlp:     [IN] CUTEstModel\n",
       "\\item x:       [IN] Array\\{Float64, 1\\}\n",
       "\\item g:       [OUT] Array\\{Float64, 1\\}\n",
       "\\end{itemize}\n",
       "\\begin{verbatim}\n",
       "ugr!(nlp, x, g)\n",
       "\\end{verbatim}\n",
       "\\begin{itemize}\n",
       "\\item nlp:     [IN] CUTEstModel\n",
       "\\item x:       [IN] Array\\{Float64, 1\\}\n",
       "\\item g:       [OUT] Array\\{Float64, 1\\}\n",
       "\\end{itemize}\n"
      ],
      "text/markdown": [
       "# ugr\n",
       "\n",
       "The ugr subroutine evaluates the gradient of the objective function of the problem decoded from a SIF file by the script sifdecoder at the point X. The problem under consideration is to minimize or maximize an objective function f(x) over all x ∈ Rn subject to the simple bounds xl≤x≤xu. The objective function is group-partially separable.\n",
       "\n",
       "This help was generated automatically and may contain errors. For more information, run the shell command\n",
       "\n",
       "```\n",
       "man cutest_ugr\n",
       "```\n",
       "\n",
       "Usage:\n",
       "\n",
       "```\n",
       "ugr(io_err, n, x, g)\n",
       "```\n",
       "\n",
       "  * io_err:  [OUT] Array{Cint, 1}\n",
       "  * n:       [IN] Array{Cint, 1}\n",
       "  * x:       [IN] Array{Cdouble, 1}\n",
       "  * g:       [OUT] Array{Cdouble, 1}\n",
       "\n",
       "```\n",
       "g = ugr(n, x)\n",
       "```\n",
       "\n",
       "  * n:       [IN] Int\n",
       "  * x:       [IN] Array{Float64, 1}\n",
       "  * g:       [OUT] Array{Float64, 1}\n",
       "\n",
       "```\n",
       "ugr!(n, x, g)\n",
       "```\n",
       "\n",
       "  * n:       [IN] Int\n",
       "  * x:       [IN] Array{Float64, 1}\n",
       "  * g:       [OUT] Array{Float64, 1}\n",
       "\n",
       "```\n",
       "g = ugr(nlp, x)\n",
       "```\n",
       "\n",
       "  * nlp:     [IN] CUTEstModel\n",
       "  * x:       [IN] Array{Float64, 1}\n",
       "  * g:       [OUT] Array{Float64, 1}\n",
       "\n",
       "```\n",
       "ugr!(nlp, x, g)\n",
       "```\n",
       "\n",
       "  * nlp:     [IN] CUTEstModel\n",
       "  * x:       [IN] Array{Float64, 1}\n",
       "  * g:       [OUT] Array{Float64, 1}\n"
      ],
      "text/plain": [
       "# ugr\n",
       "\n",
       "The ugr subroutine evaluates the gradient of the objective function of the problem decoded from a SIF file by the script sifdecoder at the point X. The problem under consideration is to minimize or maximize an objective function f(x) over all x ∈ Rn subject to the simple bounds xl≤x≤xu. The objective function is group-partially separable.\n",
       "\n",
       "This help was generated automatically and may contain errors. For more information, run the shell command\n",
       "\n",
       "```\n",
       "man cutest_ugr\n",
       "```\n",
       "\n",
       "Usage:\n",
       "\n",
       "```\n",
       "ugr(io_err, n, x, g)\n",
       "```\n",
       "\n",
       "  * io_err:  [OUT] Array{Cint, 1}\n",
       "  * n:       [IN] Array{Cint, 1}\n",
       "  * x:       [IN] Array{Cdouble, 1}\n",
       "  * g:       [OUT] Array{Cdouble, 1}\n",
       "\n",
       "```\n",
       "g = ugr(n, x)\n",
       "```\n",
       "\n",
       "  * n:       [IN] Int\n",
       "  * x:       [IN] Array{Float64, 1}\n",
       "  * g:       [OUT] Array{Float64, 1}\n",
       "\n",
       "```\n",
       "ugr!(n, x, g)\n",
       "```\n",
       "\n",
       "  * n:       [IN] Int\n",
       "  * x:       [IN] Array{Float64, 1}\n",
       "  * g:       [OUT] Array{Float64, 1}\n",
       "\n",
       "```\n",
       "g = ugr(nlp, x)\n",
       "```\n",
       "\n",
       "  * nlp:     [IN] CUTEstModel\n",
       "  * x:       [IN] Array{Float64, 1}\n",
       "  * g:       [OUT] Array{Float64, 1}\n",
       "\n",
       "```\n",
       "ugr!(nlp, x, g)\n",
       "```\n",
       "\n",
       "  * nlp:     [IN] CUTEstModel\n",
       "  * x:       [IN] Array{Float64, 1}\n",
       "  * g:       [OUT] Array{Float64, 1}\n"
      ]
     },
     "execution_count": 44,
     "metadata": {},
     "output_type": "execute_result"
    }
   ],
   "source": [
    "?ugr"
   ]
  },
  {
   "cell_type": "code",
   "execution_count": 45,
   "metadata": {
    "collapsed": false
   },
   "outputs": [],
   "source": [
    "nlp = CUTEstModel(\"ROSENBR\")\n",
    "g = zeros(nlp.meta.nvar)\n",
    "ugr!(nlp, nlp.meta.x0, g)\n",
    "println(\"g = $g\")\n",
    "println(ugr(nlp, nlp.meta.x0))\n",
    "cutest_finalize(nlp)"
   ]
  },
  {
   "cell_type": "markdown",
   "metadata": {},
   "source": [
    "Muito mais chato de usar, mas você reutiliza o vetor criado"
   ]
  },
  {
   "cell_type": "code",
   "execution_count": 46,
   "metadata": {
    "collapsed": false
   },
   "outputs": [
    {
     "data": {
      "text/plain": [
       "metodo_bfgs4 (generic function with 1 method)"
      ]
     },
     "execution_count": 46,
     "metadata": {},
     "output_type": "execute_result"
    }
   ],
   "source": [
    "# Atenção: ∇f!(x, g).\n",
    "function metodo_bfgs4(f, ∇f!, x₀; ϵ = 1e-4, α = 0.5, η = 0.5, kmax = 1000)\n",
    "    n = length(x₀)\n",
    "    B = eye(n)\n",
    "    ef = 0\n",
    "    x = copy(x₀)\n",
    "    fx = f(x)\n",
    "    ∇fx = zeros(n)\n",
    "    ∇f!(x, ∇fx)\n",
    "    y = zeros(n) # Agora criamos y aqui. Uma vez\n",
    "    k = 0\n",
    "    while norm(∇fx) > ϵ\n",
    "        d = -B\\∇fx\n",
    "        dt∇f = dot(d,∇fx)\n",
    "        t = 1.0\n",
    "        while f(x + t*d) > fx + α*t*dt∇f\n",
    "            t *= η\n",
    "        end\n",
    "        s = t*d\n",
    "        x = x + s\n",
    "        copy!(y, ∇fx) # Sobrescreve os valores de y\n",
    "        fx = f(x)\n",
    "        ∇f!(x, ∇fx)\n",
    "        y = ∇fx - y\n",
    "        \n",
    "        k += 1\n",
    "        if k > kmax\n",
    "            ef = 1\n",
    "            break\n",
    "        end\n",
    "        \n",
    "        sty = dot(s,y)\n",
    "        if sty > 0.0\n",
    "            Bs = B*s\n",
    "            stBs = dot(s,Bs)\n",
    "            for i = 1:n\n",
    "                B[i,i] += y[i]^2/sty - Bs[i]^2/stBs\n",
    "                for j = i+1:n\n",
    "                    B[i,j] = B[i,j] + y[i]*y[j]/sty - Bs[i]*Bs[j]/stBs\n",
    "                    B[j,i] = B[i,j]\n",
    "                end\n",
    "            end\n",
    "        end\n",
    "    end\n",
    "    return x, fx, ef, k\n",
    "end"
   ]
  },
  {
   "cell_type": "code",
   "execution_count": 47,
   "metadata": {
    "collapsed": false
   },
   "outputs": [
    {
     "data": {
      "text/plain": [
       "roda_cutest_inplace (generic function with 1 method)"
      ]
     },
     "execution_count": 47,
     "metadata": {},
     "output_type": "execute_result"
    },
    {
     "name": "stdout",
     "output_type": "stream",
     "text": [
      "1.565220 seconds (22.43 M allocations: 668.264 MB, 5.58% gc time)\n",
      "search: ugr ugr! ugrsh ugreh ugrdh ugrsh! ugreh! ugrdh! ClusterManager\n",
      "\n",
      "g = [-215.59999999999997,-87.99999999999999]\n",
      "[-215.59999999999997,-87.99999999999999]\n"
     ]
    }
   ],
   "source": [
    "function roda_cutest_inplace(mtd; T = 1000)\n",
    "    lista = [\"ROSENBR\", \"BARD\", \"ALLINITU\", \"CUBE\", \"BEALE\", \"OSCIPATH\"]\n",
    "    tempos = zeros(length(lista))\n",
    "    for (i,p) in enumerate(lista)\n",
    "        nlp = CUTEstModel(p)\n",
    "        f(x) = ufn(nlp, x)\n",
    "        ∇f!(x, g) = ugr!(nlp, x, g)\n",
    "        try\n",
    "            x, fx, ef, k = mtd(f, ∇f!, nlp.meta.x0, ϵ=1e-5, kmax=1000)\n",
    "            for j = 1:T\n",
    "                x, fx, ef, k = mtd(f, ∇f!, nlp.meta.x0, ϵ=1e-5, kmax=1000)\n",
    "            end\n",
    "        catch er\n",
    "            println(\"ERRO no problema $p:\", er)\n",
    "        finally\n",
    "            cutest_finalize(nlp)\n",
    "        end\n",
    "    end\n",
    "end"
   ]
  },
  {
   "cell_type": "code",
   "execution_count": 48,
   "metadata": {
    "collapsed": false
   },
   "outputs": [
    {
     "name": "stdout",
     "output_type": "stream",
     "text": [
      "  2.232657 seconds (16.94 M allocations: 975.562 MB, 6.55% gc time)\n",
      "  1.468368 seconds (12.37 M allocations: 706.144 MB, 7.45% gc time)\n",
      "  1.554630 seconds (22.43 M allocations: 668.264 MB, 5.69% gc time)\n",
      "  "
     ]
    }
   ],
   "source": [
    "for mtd in [metodo_bfgs, metodo_bfgs2, metodo_bfgs3]\n",
    "    roda_cutest(mtd, T=1)\n",
    "    @time roda_cutest(mtd)\n",
    "end\n",
    "for mtd in [metodo_bfgs4]\n",
    "    roda_cutest_inplace(mtd, T=1)\n",
    "    @time roda_cutest_inplace(mtd)\n",
    "end"
   ]
  },
  {
   "cell_type": "markdown",
   "metadata": {},
   "source": [
    "Mudar o código para usar inplace pode levar à uma grande melhoria, mas é trabalhoso e quebra o código.\n",
    "Faça quando tiver tempo."
   ]
  },
  {
   "cell_type": "markdown",
   "metadata": {},
   "source": [
    "## Baixar o nível do código?\n",
    "\n",
    " - O que mandar pra C? Busque pelo profiler.\n",
    " - A mudança é necessária? Alternativas?\n",
    " - A mudança é viável?\n",
    " \n",
    "No nosso caso, poderíamos tentar mudar o BFGS por um BFGS explícito, com memória limitada.\n",
    "Poderíamos usar uma busca melhor. Poderíamos usar região de confiança, etc."
   ]
  },
  {
   "cell_type": "code",
   "execution_count": 49,
   "metadata": {
    "collapsed": false
   },
   "outputs": [],
   "source": [
    ";cat src/update_bfgs.c"
   ]
  },
  {
   "cell_type": "code",
   "execution_count": 50,
   "metadata": {
    "collapsed": false
   },
   "outputs": [],
   "source": [
    ";gcc src/update_bfgs.c -o update_bfgs.o -fPIC -shared"
   ]
  },
  {
   "cell_type": "code",
   "execution_count": 51,
   "metadata": {
    "collapsed": false
   },
   "outputs": [
    {
     "data": {
      "text/plain": [
       "3x3 Array{Float64,2}:\n",
       " 1.42233   0.283961  0.34564\n",
       " 0.283961  0.987426  0.11961\n",
       " 0.34564   0.11961   1.22036"
      ]
     },
     "execution_count": 51,
     "metadata": {},
     "output_type": "execute_result"
    }
   ],
   "source": [
    "B = eye(3)\n",
    "y = ones(3)\n",
    "s = rand(3)\n",
    "B + y*y'/dot(s,y) - B*s*s'*B/dot(s,B*s)"
   ]
  },
  {
   "cell_type": "code",
   "execution_count": 52,
   "metadata": {
    "collapsed": false
   },
   "outputs": [],
   "source": [
    "println(\"B = \\n$B\")\n",
    "ccall( (:update_bfgs, \"update_bfgs.o\"), # (foo, lib)\n",
    "  Void, # return\n",
    "  (Cint, Ptr{Cdouble}, Ptr{Cdouble}, Ptr{Cdouble}), # (type, of, each, argument)\n",
    "Cint(3), B, y, s) # each, argument\n",
    "println(\"B = \\n$B\")"
   ]
  },
  {
   "cell_type": "code",
   "execution_count": 53,
   "metadata": {
    "collapsed": false
   },
   "outputs": [
    {
     "data": {
      "text/plain": [
       "metodo_bfgs5 (generic function with 1 method)"
      ]
     },
     "execution_count": 53,
     "metadata": {},
     "output_type": "execute_result"
    }
   ],
   "source": [
    "function metodo_bfgs5(f, ∇f!, x₀; ϵ = 1e-4, α = 0.5, η = 0.5, kmax = 1000)\n",
    "    n = length(x₀)\n",
    "    B = eye(n)\n",
    "    ef = 0\n",
    "    x = copy(x₀)\n",
    "    fx = f(x)\n",
    "    ∇fx = zeros(n)\n",
    "    ∇f!(x, ∇fx)\n",
    "    y = zeros(n) # Agora criamos y aqui. Uma vez\n",
    "    k = 0\n",
    "    while norm(∇fx) > ϵ\n",
    "        d = -B\\∇fx\n",
    "        dt∇f = dot(d,∇fx)\n",
    "        t = 1.0\n",
    "        while f(x + t*d) > fx + α*t*dt∇f\n",
    "            t *= η\n",
    "        end\n",
    "        s = t*d\n",
    "        x = x + s\n",
    "        copy!(y, ∇fx) # Sobrescreve os valores de y\n",
    "        fx = f(x)\n",
    "        ∇f!(x, ∇fx)\n",
    "        y = ∇fx - y\n",
    "        \n",
    "        k += 1\n",
    "        if k > kmax\n",
    "            ef = 1\n",
    "            break\n",
    "        end\n",
    "        \n",
    "        ccall( (:update_bfgs, \"update_bfgs.o\"), Void,\n",
    "            (Cint, Ptr{Cdouble}, Ptr{Cdouble}, Ptr{Cdouble}),\n",
    "            Cint(n), B, y, s)\n",
    "    end\n",
    "    return x, fx, ef, k\n",
    "end"
   ]
  },
  {
   "cell_type": "code",
   "execution_count": 54,
   "metadata": {
    "collapsed": false
   },
   "outputs": [
    {
     "name": "stdout",
     "output_type": "stream",
     "text": [
      "1.181830 seconds (7.70 M allocations: 433.990 MB, 5.34% gc time)\n",
      "#include <stdio.h>\n",
      "#include <stdlib.h>\n",
      "\n",
      "void update_bfgs(int n, double *B, double *y, double *s) {\n",
      "  int i, j, k;\n",
      "  double *Bs, a = 0.0, b = 0.0;\n",
      "\n",
      "  for (i = 0; i < n; i++)\n",
      "    a += y[i]*s[i];\n",
      "\n",
      "  if (a <= 0)\n",
      "    return;\n",
      "\n",
      "  Bs = (double *) malloc(sizeof(double)*n);\n",
      "\n",
      "  for (i = 0; i < n; i++) {\n",
      "    Bs[i] = 0.0;\n",
      "    for (j = 0; j < n; j++)\n",
      "      Bs[i] += B[i + j*n]*s[j];\n",
      "    b += s[i]*Bs[i];\n",
      "  }\n",
      "\n",
      "  for (i = 0; i < n; i++) {\n",
      "    for (j = i; j < n; j++) {\n",
      "      B[i + j*n] += y[i]*y[j]/a - Bs[i]*Bs[j]/b;\n",
      "      B[j + i*n] = B[i + j*n];\n",
      "    }\n",
      "  }\n",
      "\n",
      "  free(Bs);\n",
      "\n",
      "}\n",
      "\n",
      "void update_bfgs2(int n, double *B, double *y, double *s, double *Bs) {\n",
      "  int i, j, k;\n",
      "  double a = 0.0, b = 0.0;\n",
      "\n",
      "  for (i = 0; i < n; i++)\n",
      "    a += y[i]*s[i];\n",
      "\n",
      "  if (a <= 0)\n",
      "    return;\n",
      "\n",
      "  for (i = 0; i < n; i++) {\n",
      "    Bs[i] = 0.0;\n",
      "    for (j = 0; j < n; j++)\n",
      "      Bs[i] += B[i + j*n]*s[j];\n",
      "    b += s[i]*Bs[i];\n",
      "  }\n",
      "\n",
      "  for (i = 0; i < n; i++) {\n",
      "    for (j = i; j < n; j++) {\n",
      "      B[i + j*n] += y[i]*y[j]/a - Bs[i]*Bs[j]/b;\n",
      "      B[j + i*n] = B[i + j*n];\n",
      "    }\n",
      "  }\n",
      "\n",
      "}\n",
      "B = \n",
      "[1.0 0.0 0.0\n",
      " 0.0 1.0 0.0\n",
      " 0.0 0.0 1.0]\n",
      "B = \n",
      "[1.4223280258863675 0.2839610235382694 0.34563954329949087\n",
      " 0.2839610235382694 0.9874260954911056 0.11960960101676954\n",
      " 0.34563954329949087 0.11960960101676954 1.2203647812629952]\n",
      "  2.284480 seconds (16.94 M allocations: 975.563 MB, 6.69% gc time)\n",
      "  1.472942 seconds (12.37 M allocations: 706.144 MB, 7.58% gc time)\n",
      "  1.559923 seconds (22.43 M allocations: 668.265 MB, 5.74% gc time)\n",
      "  1.189854 seconds (7.70 M allocations: 433.990 MB, 5.63% gc time)\n",
      "  "
     ]
    }
   ],
   "source": [
    "for mtd in [metodo_bfgs, metodo_bfgs2, metodo_bfgs3]\n",
    "    roda_cutest(mtd, T=1)\n",
    "    @time roda_cutest(mtd)\n",
    "end\n",
    "for mtd in [metodo_bfgs4, metodo_bfgs5]\n",
    "    roda_cutest_inplace(mtd, T=1)\n",
    "    @time roda_cutest_inplace(mtd)\n",
    "end"
   ]
  },
  {
   "cell_type": "code",
   "execution_count": 55,
   "metadata": {
    "collapsed": false
   },
   "outputs": [
    {
     "data": {
      "text/plain": [
       "metodo_bfgs6 (generic function with 1 method)"
      ]
     },
     "execution_count": 55,
     "metadata": {},
     "output_type": "execute_result"
    }
   ],
   "source": [
    "# Atenção: ∇f!(x, g).\n",
    "function metodo_bfgs6(f, ∇f!, x₀; ϵ = 1e-4, α = 0.5, η = 0.5, kmax = 1000)\n",
    "    n = length(x₀)\n",
    "    B = eye(n)\n",
    "    ef = 0\n",
    "    x = copy(x₀)\n",
    "    fx = f(x)\n",
    "    ∇fx = zeros(n)\n",
    "    ∇f!(x, ∇fx)\n",
    "    y = zeros(n) # Agora criamos y aqui. Uma vez\n",
    "    Bs = zeros(n)\n",
    "    k = 0\n",
    "    while norm(∇fx) > ϵ\n",
    "        d = -B\\∇fx\n",
    "        dt∇f = dot(d,∇fx)\n",
    "        t = 1.0\n",
    "        while f(x + t*d) > fx + α*t*dt∇f\n",
    "            t *= η\n",
    "        end\n",
    "        s = t*d\n",
    "        x = x + s\n",
    "        copy!(y, ∇fx) # Sobrescreve os valores de y\n",
    "        fx = f(x)\n",
    "        ∇f!(x, ∇fx)\n",
    "        y = ∇fx - y\n",
    "        \n",
    "        k += 1\n",
    "        if k > kmax\n",
    "            ef = 1\n",
    "            break\n",
    "        end\n",
    "        \n",
    "        sty = dot(s,y)\n",
    "        if sty > 0.0\n",
    "            for i = 1:n\n",
    "                Bs[i] = 0.0\n",
    "                for j = 1:n\n",
    "                    Bs[i] += B[i,j]*s[j]\n",
    "                end\n",
    "            end\n",
    "            \n",
    "            stBs = dot(s,Bs)\n",
    "            for i = 1:n\n",
    "                B[i,i] += y[i]^2/sty - Bs[i]^2/stBs\n",
    "                for j = i+1:n\n",
    "                    B[i,j] = B[i,j] + y[i]*y[j]/sty - Bs[i]*Bs[j]/stBs\n",
    "                    B[j,i] = B[i,j]\n",
    "                end\n",
    "            end\n",
    "        end\n",
    "    end\n",
    "    return x, fx, ef, k\n",
    "end"
   ]
  },
  {
   "cell_type": "code",
   "execution_count": 56,
   "metadata": {
    "collapsed": false
   },
   "outputs": [
    {
     "name": "stdout",
     "output_type": "stream",
     "text": [
      "1.171909 seconds (7.41 M allocations: 419.740 MB, 5.23% gc time)\n",
      "  2.243280 seconds (16.94 M allocations: 975.559 MB, 6.79% gc time)\n",
      "  1.467551 seconds (12.37 M allocations: 706.145 MB, 7.39% gc time)\n",
      "  1.545693 seconds (22.43 M allocations: 668.262 MB, 5.51% gc time)\n",
      "  1.180867 seconds (7.70 M allocations: 433.990 MB, 5.38% gc time)\n",
      "  1.168218 seconds (7.41 M allocations: 419.740 MB, 5.23% gc time)\n",
      "  "
     ]
    }
   ],
   "source": [
    "for mtd in [metodo_bfgs, metodo_bfgs2, metodo_bfgs3]\n",
    "    roda_cutest(mtd, T=1)\n",
    "    @time roda_cutest(mtd)\n",
    "end\n",
    "for mtd in [metodo_bfgs4, metodo_bfgs5, metodo_bfgs6]\n",
    "    roda_cutest_inplace(mtd, T=1)\n",
    "    @time roda_cutest_inplace(mtd)\n",
    "end"
   ]
  },
  {
   "cell_type": "code",
   "execution_count": 57,
   "metadata": {
    "collapsed": false
   },
   "outputs": [
    {
     "data": {
      "text/plain": [
       "metodo_bfgs7 (generic function with 1 method)"
      ]
     },
     "execution_count": 57,
     "metadata": {},
     "output_type": "execute_result"
    }
   ],
   "source": [
    "function metodo_bfgs7(f, ∇f!, x₀; ϵ = 1e-4, α = 0.5, η = 0.5, kmax = 1000)\n",
    "    n = length(x₀)\n",
    "    B = eye(n)\n",
    "    ef = 0\n",
    "    x = copy(x₀)\n",
    "    fx = f(x)\n",
    "    ∇fx = zeros(n)\n",
    "    ∇f!(x, ∇fx)\n",
    "    y = zeros(n)\n",
    "    Bs = zeros(n)\n",
    "    k = 0\n",
    "    while norm(∇fx) > ϵ\n",
    "        d = -B\\∇fx\n",
    "        dt∇f = dot(d,∇fx)\n",
    "        t = 1.0\n",
    "        while f(x + t*d) > fx + α*t*dt∇f\n",
    "            t *= η\n",
    "        end\n",
    "        s = t*d\n",
    "        x = x + s\n",
    "        copy!(y, ∇fx) # Sobrescreve os valores de y\n",
    "        fx = f(x)\n",
    "        ∇f!(x, ∇fx)\n",
    "        y = ∇fx - y\n",
    "        \n",
    "        k += 1\n",
    "        if k > kmax\n",
    "            ef = 1\n",
    "            break\n",
    "        end\n",
    "        \n",
    "        ccall( (:update_bfgs2, \"update_bfgs.o\"), Void,\n",
    "          (Cint, Ptr{Cdouble}, Ptr{Cdouble}, Ptr{Cdouble}, Ptr{Cdouble}),\n",
    "          Cint(n), B, y, s, Bs)\n",
    "    end\n",
    "    return x, fx, ef, k\n",
    "end"
   ]
  },
  {
   "cell_type": "code",
   "execution_count": 59,
   "metadata": {
    "collapsed": false
   },
   "outputs": [
    {
     "name": "stdout",
     "output_type": "stream",
     "text": [
      "  4.078675 seconds (33.86 M allocations: 1.903 GB, 7.47% gc time)\n",
      "  2.516413 seconds (24.72 M allocations: 1.377 GB, 8.77% gc time)\n",
      "  2.684240 seconds (44.84 M allocations: 1.303 GB, 7.03% gc time)\n",
      "  1.961218 seconds (15.38 M allocations: 865.906 MB, 6.82% gc time)\n",
      "  1.924396 seconds (14.81 M allocations: 837.419 MB, 6.51% gc time)\n",
      "  1.920262 seconds (14.82 M allocations: 838.515 MB, 6.83% gc time)\n",
      "  1.904263 seconds (14.82 M allocations: 838.518 MB, 6.54% gc time)\n"
     ]
    }
   ],
   "source": [
    "T = 2000\n",
    "for mtd in [metodo_bfgs, metodo_bfgs2, metodo_bfgs3]\n",
    "    roda_cutest(mtd, T=1)\n",
    "    @time roda_cutest(mtd, T=T)\n",
    "end\n",
    "for mtd in [metodo_bfgs4, metodo_bfgs5, metodo_bfgs6, metodo_bfgs7]\n",
    "    roda_cutest_inplace(mtd, T=1)\n",
    "    @time roda_cutest_inplace(mtd, T=T)\n",
    "end"
   ]
  },
  {
   "cell_type": "code",
   "execution_count": null,
   "metadata": {
    "collapsed": true
   },
   "outputs": [],
   "source": []
  }
 ],
 "metadata": {
  "kernelspec": {
   "display_name": "Julia 0.4.1",
   "language": "julia",
   "name": "julia-0.4"
  },
  "language_info": {
   "file_extension": ".jl",
   "mimetype": "application/julia",
   "name": "julia",
   "version": "0.4.1"
  }
 },
 "nbformat": 4,
 "nbformat_minor": 0
}
