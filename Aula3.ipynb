{
 "cells": [
  {
   "cell_type": "markdown",
   "metadata": {},
   "source": [
    "# Trabalhando bem\n",
    "\n",
    "Vamos abordar alguns aspectos de como fazer um algoritmo/pacote\n",
    "nos padrões esperados do Julia, e também um workflow para desenvolver\n",
    "um algoritmo rápido, e depois melhorá-lo."
   ]
  },
  {
   "cell_type": "markdown",
   "metadata": {},
   "source": [
    "## Um pacote\n",
    "\n",
    "Uma pacote em Julia, é um diretório com a configuração\n",
    "\n",
    " - NomeDoPacote.jl/\n",
    "   - src/\n",
    "     - NomeDoPacote.jl\n",
    "     - Outros arquivos\n",
    "   - test/\n",
    "     - runtests.jl\n",
    "     - Arquivos auxiliares de teste.\n",
    "   - README.md\n",
    "   - LICENSE.md\n",
    "   - .travis.yml\n",
    "   - Outros arquivos\n",
    "   \n",
    "Por mais incomum que seja, o nome do nosso pacote será o nome do diretório,\n",
    "**incluindo o .jl**. Além disso, esse mesmo nome será o nome do arquivo\n",
    "principal do pacote.\n",
    "\n",
    "Os arquivos do `src/` sozinhos não fazem nada. Eles declaram e definem as\n",
    "funções do pacote. O arquivo `test/` é quem chama o código, assim como\n",
    "o usuário chamaria. O arquivo `runtests.jl` é o arquivo chamado quando o\n",
    "usuário fizer `Pkg.test(\"NomeDoPacote\")`.\n",
    "No índice de pacotes é mostrado se esse teste é bem sucedido.\n",
    "\n",
    "O arquivo `README.md` é o arquivo principal de informação do seu pacote,\n",
    "e o arquivo `LICENSE.md` é o arquivo indicando qual a licensa do seu pacote.\n",
    "A licensa mais utilizada aqui é a MIT, mas outras podem ser utilizadas.\n",
    "\n",
    "O arquivo `.travis.yml` é um arquivo muito específico que roda os testes\n",
    "do seu pacote online. Ele exige configuração, e não vamos falar dele agora."
   ]
  },
  {
   "cell_type": "markdown",
   "metadata": {},
   "source": [
    "## NomeDoPacote.jl\n",
    "\n",
    "O arquivo `NomeDoPacote.jl` é o arquivo principal do seu pacote.\n",
    "A maneira normal de começar é criar um módulo para seu código.\n",
    "\n",
    "````julia\n",
    "module NomeDoPacote\n",
    "\n",
    "...\n",
    "\n",
    "end\n",
    "````"
   ]
  },
  {
   "cell_type": "markdown",
   "metadata": {},
   "source": [
    "Dentro desse módulo, normalmente incluímos códigos auxiliares. Por exemplo, vamos colocar a busca linear num\n",
    "arquivo separado `buscaLinear.jl`. Então colocamos `include(\"buscaLinear.jl\")`.\n",
    "\n",
    "Agora criamos a nossa função `metodo_gradiente` e colocamos um comando\n",
    "`export metodo_gradiente` para que usuários possam usar essa função."
   ]
  },
  {
   "cell_type": "markdown",
   "metadata": {},
   "source": [
    "Agora criamos algum teste para nosso código. Vamos criar o arquivo\n",
    "`teste_quad.jl` contendo testes de funções quadráticas, e o no arquivo\n",
    "`runtests.jl` colocamos `include(\"teste_quad.jl\")`."
   ]
  },
  {
   "cell_type": "markdown",
   "metadata": {},
   "source": [
    "Veja o MetodoGradiente.jl."
   ]
  },
  {
   "cell_type": "markdown",
   "metadata": {},
   "source": [
    "## Workflow de um código de otimização\n",
    "\n",
    "Até bem pouco tempo, tínhamos duas opções de implementações\n",
    "de algoritmos de otimização\n",
    "\n",
    " - C/Fortran: Um algoritmo rápido, competitivo, porém trabalhoso de fazer e usar;\n",
    " - MatLab: Um algoritmo fácil de escrever, porém limitado em alguns aspectos de velocidade e liberdade de uso.\n",
    "\n",
    "O Python criou uma alternativa que não fui suficientemente adotada por não ser fácil o suficiente,\n",
    "mas com Julia, temos uma oportunidade nova.\n",
    "\n",
    "O Julia permite uma implementação rápida, é livre, e tem uma velocidade boa.\n",
    "Além disse, permite uma integração com C e Fortran muito maior, que pode ser feita gradualmente.\n",
    "Eventualmente, se necessário, pode-se fazer uma migração total.\n",
    "\n",
    "Esse paradigma funciona para quase qualquer tipo de aplicação em Julia,\n",
    "mas para otimização vamos ver como o CUTEst pode nos ajudar.1"
   ]
  },
  {
   "cell_type": "markdown",
   "metadata": {},
   "source": [
    "### Ponto inicial\n",
    "\n",
    "A primeira preocupação deve ser fazer o algoritmo funcionar.\n",
    "\n",
    " - Não se preocupe em deixar o código eficiente;\n",
    " - Não se preocupe com sistemas lineares;\n",
    " - Não se preocupe com BLAS\n",
    " - Não se preocupe com variáveis repetidas;\n",
    " - Não se preocupe com matrizes criadas à toa;\n",
    "\n",
    "Palavras do Donald Knuth:\n",
    "\n",
    "> Programmers waste enormous amounts of time thinking about, or worrying about, the speed of noncritical parts of their programs, and these attempts at efficiency actually have a strong negative impact when debugging and maintenance are considered. We should forget about small efficiencies, say about 97% of the time: **premature optimization is the root of all evil.** Yet we should not pass up our opportunities in that critical 3%.\n",
    "> - Structured Programming With Go To Statements\", Computing Surveys, Vol 6, No 4, December 1974 "
   ]
  },
  {
   "cell_type": "markdown",
   "metadata": {},
   "source": [
    "Escreva os testes, decida o que o código precisa resolver e implemente tudo."
   ]
  },
  {
   "cell_type": "code",
   "execution_count": null,
   "metadata": {
    "collapsed": true
   },
   "outputs": [],
   "source": []
  }
 ],
 "metadata": {
  "kernelspec": {
   "display_name": "Julia 0.4.0",
   "language": "julia",
   "name": "julia-0.4"
  },
  "language_info": {
   "file_extension": ".jl",
   "mimetype": "application/julia",
   "name": "julia",
   "version": "0.4.0"
  }
 },
 "nbformat": 4,
 "nbformat_minor": 0
}
