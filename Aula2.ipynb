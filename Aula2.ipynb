{
 "cells": [
  {
   "cell_type": "markdown",
   "metadata": {},
   "source": [
    "# Implementação de Métodos de Otimização\n",
    "\n",
    "Vamos começar implementando um método simples."
   ]
  },
  {
   "cell_type": "markdown",
   "metadata": {},
   "source": [
    "## Método do Gradiente com busca de Armijo\n",
    "\n",
    "$$ x^{k+1} = x^k + t_kd^k $$\n",
    "$$ f(x^{k+1}) < f(x^k) + \\alpha t^k \\nabla f(x^k)^Td^k $$"
   ]
  },
  {
   "cell_type": "code",
   "execution_count": 90,
   "metadata": {
    "collapsed": false
   },
   "outputs": [
    {
     "data": {
      "text/plain": [
       "metodo_gradiente (generic function with 1 method)"
      ]
     },
     "execution_count": 90,
     "metadata": {},
     "output_type": "execute_result"
    }
   ],
   "source": [
    "function metodo_gradiente(f, ∇f, x₀)\n",
    "    ϵ = 1e-4\n",
    "    α = 0.5\n",
    "    η = 0.5\n",
    "    kmax = 1000\n",
    "    \n",
    "    ef = 0\n",
    "    x = copy(x₀)\n",
    "    k = 0\n",
    "    while norm(∇f(x)) > ϵ\n",
    "        d = -∇f(x)\n",
    "        t = 1.0\n",
    "        while f(x + t*d) > f(x) + α*t*dot(d,∇f(x))\n",
    "            t *= η\n",
    "        end\n",
    "        x = x + t*d\n",
    "        k += 1\n",
    "        if k > kmax\n",
    "            ef = 1\n",
    "            break\n",
    "        end\n",
    "    end\n",
    "    return x, f(x), ef, k\n",
    "end"
   ]
  },
  {
   "cell_type": "code",
   "execution_count": 93,
   "metadata": {
    "collapsed": false
   },
   "outputs": [
    {
     "data": {
      "text/plain": [
       "([0.945442,0.00317775,1.00747e-5,3.00921e-8,8.45733e-11,2.23366e-13,5.53637e-16,1.28606e-18,2.79584e-21,5.67987e-24  …  0.0,0.0,0.0,0.0,0.0,0.0,0.0,0.0,0.0,0.0],4.4744523760589496e-5,0,561)"
      ]
     },
     "execution_count": 93,
     "metadata": {},
     "output_type": "execute_result"
    }
   ],
   "source": [
    "n = 100\n",
    "Λ = linspace(1e-4, 1.0, n) # Linearly spaced vector from 1e-4 to 1.0\n",
    "f(x) = 0.5*dot(x, Λ.*x); ∇f(x) = Λ.*x\n",
    "\n",
    "x, fx, ef, k = metodo_gradiente(f, ∇f, ones(n))"
   ]
  },
  {
   "cell_type": "code",
   "execution_count": 96,
   "metadata": {
    "collapsed": false
   },
   "outputs": [
    {
     "name": "stdout",
     "output_type": "stream",
     "text": [
      "f(x) = 4.4744523760589496e-5; ef = 0; k = 561\n"
     ]
    }
   ],
   "source": [
    "println(\"f(x) = $fx; ef = $ef; k = $k\")"
   ]
  },
  {
   "cell_type": "markdown",
   "metadata": {},
   "source": [
    "### Upgrade da função\n",
    "\n",
    "Uma maneira simples de limpar a função é colocar alguns parâmetros como\n",
    "argumentos por palavra-chave. Assim já temos a opção de fazer mudanças na\n",
    "chamada da função, mas também temos uma opção simples para outras pessoas usarem.\n",
    "Se tivermos muitas funções com muitos argumentos isso pode ficar complicado,\n",
    "e/ou feio. Podemos tentar melhorar um pouco a estética usando um tipo\n",
    "composto (equivalente à struct, mas que permite construtores).\n",
    "Outra opção é usar o pacote [Options.jl](https://github.com/JuliaLang/Options.jl)."
   ]
  },
  {
   "cell_type": "code",
   "execution_count": 117,
   "metadata": {
    "collapsed": false
   },
   "outputs": [
    {
     "data": {
      "text/plain": [
       "metodo_gradiente2 (generic function with 1 method)"
      ]
     },
     "execution_count": 117,
     "metadata": {},
     "output_type": "execute_result"
    }
   ],
   "source": [
    "function metodo_gradiente2(f, ∇f, x₀; ϵ = 1e-4, α = 0.5, η = 0.5, kmax = 1000)\n",
    "    ef = 0\n",
    "    x = copy(x₀)\n",
    "    k = 0\n",
    "    while norm(∇f(x)) > ϵ\n",
    "        d = -∇f(x)\n",
    "        t = 1.0\n",
    "        while f(x + t*d) > f(x) + α*t*dot(d,∇f(x))\n",
    "            t *= η\n",
    "        end\n",
    "        x = x + t*d\n",
    "        k += 1\n",
    "        if k > kmax\n",
    "            ef = 1\n",
    "            break\n",
    "        end\n",
    "    end\n",
    "    return x, f(x), ef, k\n",
    "end"
   ]
  },
  {
   "cell_type": "code",
   "execution_count": 118,
   "metadata": {
    "collapsed": false
   },
   "outputs": [
    {
     "name": "stdout",
     "output_type": "stream",
     "text": [
      "f(x) = 4.99969961220827e-7; ef = 0; k = 23025\n"
     ]
    }
   ],
   "source": [
    "x, fx, ef, k = metodo_gradiente2(f, ∇f, ones(n), ϵ=1e-5, kmax=100000)\n",
    "println(\"f(x) = $fx; ef = $ef; k = $k\")"
   ]
  },
  {
   "cell_type": "markdown",
   "metadata": {},
   "source": [
    "## Melhorando o código um pouco\n",
    "\n",
    "Estamos calculando $f(x)$ e $\\nabla f(x)$ toda iteração. Vamos evitar."
   ]
  },
  {
   "cell_type": "code",
   "execution_count": 131,
   "metadata": {
    "collapsed": false
   },
   "outputs": [
    {
     "data": {
      "text/plain": [
       "metodo_gradiente3 (generic function with 1 method)"
      ]
     },
     "execution_count": 131,
     "metadata": {},
     "output_type": "execute_result"
    }
   ],
   "source": [
    "function metodo_gradiente3(f, ∇f, x₀; ϵ = 1e-4, α = 0.5, η = 0.5, kmax = 1000)\n",
    "    ef = 0\n",
    "    x = copy(x₀)\n",
    "    k = 0\n",
    "    ∇fx = ∇f(x)\n",
    "    while norm(∇fx) > ϵ\n",
    "        t = 1.0\n",
    "        fx = f(x)\n",
    "        dt∇f = dot(∇fx,∇fx)\n",
    "        while f(x - t*∇fx) > fx - α*t*dt∇f\n",
    "            t *= η\n",
    "        end\n",
    "        x = x - t*∇fx\n",
    "        ∇fx = ∇f(x)\n",
    "        k += 1\n",
    "        if k > kmax\n",
    "            ef = 1\n",
    "            break\n",
    "        end\n",
    "    end\n",
    "    return x, fx, ef, k\n",
    "end"
   ]
  },
  {
   "cell_type": "code",
   "execution_count": 136,
   "metadata": {
    "collapsed": false
   },
   "outputs": [
    {
     "name": "stdout",
     "output_type": "stream",
     "text": [
      "f(x) = 4.99969961220827e-7; ef = 0; k = 23025\n"
     ]
    }
   ],
   "source": [
    "x, fx, ef, k = metodo_gradiente3(f, ∇f, ones(n), ϵ=1e-5, kmax=100000)\n",
    "println(\"f(x) = $fx; ef = $ef; k = $k\")"
   ]
  },
  {
   "cell_type": "code",
   "execution_count": 143,
   "metadata": {
    "collapsed": false
   },
   "outputs": [
    {
     "name": "stdout",
     "output_type": "stream",
     "text": [
      "  0.013025 seconds (64.01 k allocations: 6.674 MB, 26.70% gc time)\n"
     ]
    }
   ],
   "source": [
    "@time x, fx, ef, k = metodo_gradiente2(f, ∇f, ones(n));"
   ]
  },
  {
   "cell_type": "code",
   "execution_count": 144,
   "metadata": {
    "collapsed": false
   },
   "outputs": [
    {
     "name": "stdout",
     "output_type": "stream",
     "text": [
      "  0.005295 seconds (42.11 k allocations: 4.532 MB)\n"
     ]
    }
   ],
   "source": [
    "@time x, fx, ef, k = metodo_gradiente3(f, ∇f, ones(n));"
   ]
  }
 ],
 "metadata": {
  "kernelspec": {
   "display_name": "Julia 0.4.0",
   "language": "julia",
   "name": "julia-0.4"
  },
  "language_info": {
   "file_extension": ".jl",
   "mimetype": "application/julia",
   "name": "julia",
   "version": "0.4.0"
  }
 },
 "nbformat": 4,
 "nbformat_minor": 0
}
