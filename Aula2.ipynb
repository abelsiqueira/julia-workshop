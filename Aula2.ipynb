{
 "cells": [
  {
   "cell_type": "markdown",
   "metadata": {},
   "source": [
    "# Implementação de Métodos de Otimização\n",
    "\n",
    "Vamos começar implementando um método simples."
   ]
  },
  {
   "cell_type": "markdown",
   "metadata": {},
   "source": [
    "## Método do Gradiente com busca de Armijo\n",
    "\n",
    "$$ x^{k+1} = x^k + t_kd^k $$\n",
    "$$ f(x^{k+1}) < f(x^k) + \\alpha t^k \\nabla f(x^k)^Td^k $$"
   ]
  },
  {
   "cell_type": "code",
   "execution_count": 1,
   "metadata": {
    "collapsed": false
   },
   "outputs": [
    {
     "data": {
      "text/plain": [
       "metodo_gradiente (generic function with 1 method)"
      ]
     },
     "execution_count": 1,
     "metadata": {},
     "output_type": "execute_result"
    }
   ],
   "source": [
    "function metodo_gradiente(f, ∇f, x₀)\n",
    "    ϵ = 1e-4\n",
    "    α = 0.5\n",
    "    η = 0.5\n",
    "    kmax = 1000\n",
    "    \n",
    "    ef = 0\n",
    "    x = copy(x₀)\n",
    "    k = 0\n",
    "    while norm(∇f(x)) > ϵ\n",
    "        d = -∇f(x)\n",
    "        t = 1.0\n",
    "        while f(x + t*d) > f(x) + α*t*dot(d,∇f(x))\n",
    "            t *= η\n",
    "        end\n",
    "        x = x + t*d\n",
    "        k += 1\n",
    "        if k > kmax\n",
    "            ef = 1\n",
    "            break\n",
    "        end\n",
    "    end\n",
    "    return x, f(x), ef, k\n",
    "end"
   ]
  },
  {
   "cell_type": "code",
   "execution_count": 2,
   "metadata": {
    "collapsed": false
   },
   "outputs": [
    {
     "data": {
      "text/plain": [
       "([0.945442,0.00317775,1.00747e-5,3.00921e-8,8.45733e-11,2.23366e-13,5.53637e-16,1.28606e-18,2.79584e-21,5.67987e-24  …  0.0,0.0,0.0,0.0,0.0,0.0,0.0,0.0,0.0,0.0],4.4744523760589496e-5,0,561)"
      ]
     },
     "execution_count": 2,
     "metadata": {},
     "output_type": "execute_result"
    }
   ],
   "source": [
    "n = 100\n",
    "Λ = linspace(1e-4, 1.0, n) # Linearly spaced vector from 1e-4 to 1.0\n",
    "f(x) = 0.5*dot(x, Λ.*x); ∇f(x) = Λ.*x\n",
    "\n",
    "x, fx, ef, k = metodo_gradiente(f, ∇f, ones(n))"
   ]
  },
  {
   "cell_type": "code",
   "execution_count": 3,
   "metadata": {
    "collapsed": false
   },
   "outputs": [
    {
     "name": "stdout",
     "output_type": "stream",
     "text": [
      "f(x) = 4.4744523760589496e-5; ef = 0; k = 561\n"
     ]
    }
   ],
   "source": [
    "println(\"f(x) = $fx; ef = $ef; k = $k\")"
   ]
  },
  {
   "cell_type": "markdown",
   "metadata": {},
   "source": [
    "### Upgrade da função\n",
    "\n",
    "Uma maneira simples de limpar a função é colocar alguns parâmetros como\n",
    "argumentos por palavra-chave. Assim já temos a opção de fazer mudanças na\n",
    "chamada da função, mas também temos uma opção simples para outras pessoas usarem.\n",
    "Se tivermos muitas funções com muitos argumentos isso pode ficar complicado,\n",
    "e/ou feio. Podemos tentar melhorar um pouco a estética usando um tipo\n",
    "composto (equivalente à struct, mas que permite construtores).\n",
    "Outra opção é usar o pacote [Options.jl](https://github.com/JuliaLang/Options.jl)."
   ]
  },
  {
   "cell_type": "code",
   "execution_count": 4,
   "metadata": {
    "collapsed": false
   },
   "outputs": [
    {
     "data": {
      "text/plain": [
       "metodo_gradiente2 (generic function with 1 method)"
      ]
     },
     "execution_count": 4,
     "metadata": {},
     "output_type": "execute_result"
    }
   ],
   "source": [
    "function metodo_gradiente2(f, ∇f, x₀; ϵ = 1e-4, α = 0.5, η = 0.5, kmax = 1000)\n",
    "    ef = 0\n",
    "    x = copy(x₀)\n",
    "    k = 0\n",
    "    while norm(∇f(x)) > ϵ\n",
    "        d = -∇f(x)\n",
    "        t = 1.0\n",
    "        while f(x + t*d) > f(x) + α*t*dot(d,∇f(x))\n",
    "            t *= η\n",
    "        end\n",
    "        x = x + t*d\n",
    "        k += 1\n",
    "        if k > kmax\n",
    "            ef = 1\n",
    "            break\n",
    "        end\n",
    "    end\n",
    "    return x, f(x), ef, k\n",
    "end"
   ]
  },
  {
   "cell_type": "code",
   "execution_count": 5,
   "metadata": {
    "collapsed": false
   },
   "outputs": [
    {
     "name": "stdout",
     "output_type": "stream",
     "text": [
      "f(x) = 4.99969961220827e-7; ef = 0; k = 23025\n"
     ]
    }
   ],
   "source": [
    "x, fx, ef, k = metodo_gradiente2(f, ∇f, ones(n), ϵ=1e-5, kmax=100000)\n",
    "println(\"f(x) = $fx; ef = $ef; k = $k\")"
   ]
  },
  {
   "cell_type": "markdown",
   "metadata": {},
   "source": [
    "## Melhorando o código um pouco\n",
    "\n",
    "Estamos calculando $f(x)$ e $\\nabla f(x)$ toda iteração. Vamos evitar."
   ]
  },
  {
   "cell_type": "code",
   "execution_count": 6,
   "metadata": {
    "collapsed": false
   },
   "outputs": [
    {
     "data": {
      "text/plain": [
       "metodo_gradiente3 (generic function with 1 method)"
      ]
     },
     "execution_count": 6,
     "metadata": {},
     "output_type": "execute_result"
    }
   ],
   "source": [
    "function metodo_gradiente3(f, ∇f, x₀; ϵ = 1e-4, α = 0.5, η = 0.5, kmax = 1000)\n",
    "    ef = 0\n",
    "    x = copy(x₀)\n",
    "    k = 0\n",
    "    fx = f(x)\n",
    "    ∇fx = ∇f(x)\n",
    "    while norm(∇fx) > ϵ\n",
    "        t = 1.0\n",
    "        dt∇f = dot(∇fx,∇fx)\n",
    "        while f(x - t*∇fx) > fx - α*t*dt∇f\n",
    "            t *= η\n",
    "        end\n",
    "        x = x - t*∇fx\n",
    "        fx = f(x)\n",
    "        ∇fx = ∇f(x)\n",
    "        k += 1\n",
    "        if k > kmax\n",
    "            ef = 1\n",
    "            break\n",
    "        end\n",
    "    end\n",
    "    return x, fx, ef, k\n",
    "end"
   ]
  },
  {
   "cell_type": "code",
   "execution_count": 7,
   "metadata": {
    "collapsed": false
   },
   "outputs": [
    {
     "name": "stdout",
     "output_type": "stream",
     "text": [
      "f(x) = 4.99969961220827e-7; ef = 0; k = 23025\n"
     ]
    }
   ],
   "source": [
    "x, fx, ef, k = metodo_gradiente3(f, ∇f, ones(n), ϵ=1e-5, kmax=100000)\n",
    "println(\"f(x) = $fx; ef = $ef; k = $k\")"
   ]
  },
  {
   "cell_type": "code",
   "execution_count": 8,
   "metadata": {
    "collapsed": false
   },
   "outputs": [
    {
     "name": "stdout",
     "output_type": "stream",
     "text": [
      "  "
     ]
    }
   ],
   "source": [
    "@time x, fx, ef, k = metodo_gradiente2(f, ∇f, ones(n));"
   ]
  },
  {
   "cell_type": "code",
   "execution_count": 9,
   "metadata": {
    "collapsed": false
   },
   "outputs": [],
   "source": [
    "@time x, fx, ef, k = metodo_gradiente3(f, ∇f, ones(n));"
   ]
  },
  {
   "cell_type": "markdown",
   "metadata": {},
   "source": [
    "## CUTEst\n",
    "\n",
    "O [CUTEst](http://ccpforge.cse.rl.ac.uk/gf/project/cutest/) ainda é o\n",
    "principal repositório de testes para algoritmos de otimização não-linear.\n",
    "Ele é escrito em Fortran, e também funciona com C e MatLab.\n",
    "\n",
    "Agora também temos uma interface para Julia, o\n",
    "[CUTEst.jl](https://github.com/JuliaOptimizers/CUTEst.jl). Essa interface\n",
    "está em desenvolvimento, e no momento atual o ponto recomendado para uso\n",
    "é [este](https://github.com/abelsiqueira/CUTEst.jl/tree/fix/issue4).\n",
    "\n",
    "Para instalar o CUTEst (mesmo sem Julia), recomendamos o pacote\n",
    "[homebrew-cutest](https://github.com/optimizers/homebrew-cutest). Esse\n",
    "pacote facilita em muitos passos a instalação, apesar de limitar as escolhas\n",
    "possíveis. Para funcionar com o Julia, é preciso que o CUTEst tenha bibliotecas\n",
    "dinâmicas, e o homebrew-cutest já faz isso.\n",
    "\n",
    "A partir daí, para instalar o CUTEst.jl, basta usar os comandos"
   ]
  },
  {
   "cell_type": "code",
   "execution_count": 10,
   "metadata": {
    "collapsed": false
   },
   "outputs": [
    {
     "name": "stderr",
     "output_type": "stream",
     "text": [
      "INFO: Cloning CUTEst from https://github.com/abelsiqueira/CUTEst.jl\n"
     ]
    },
    {
     "name": "stdout",
     "output_type": "stream",
     "text": [
      "0.009645 seconds (64.57 k allocations: 6.708 MB)\n",
      "  0.010131 seconds (42.53 k allocations: 4.557 MB, 34.79% gc time)\n"
     ]
    },
    {
     "ename": "LoadError",
     "evalue": "LoadError: CUTEst already exists\nwhile loading In[10], in expression starting on line 1",
     "output_type": "error",
     "traceback": [
      "LoadError: CUTEst already exists\nwhile loading In[10], in expression starting on line 1",
      ""
     ]
    }
   ],
   "source": [
    "Pkg.clone(\"https://github.com/abelsiqueira/CUTEst.jl\")\n",
    "Pkg.checkout(\"CUTEst\", \"fix/issue4\")"
   ]
  },
  {
   "cell_type": "markdown",
   "metadata": {},
   "source": [
    "Os detalhes dessa instalação no Linux podem ser vistos\n",
    "[neste post](http://abelsiqueira.github.io/blog/cutest/julia/sifdecode/optimization/2015/10/01/installing-cutest-and-cutest.jl.html)."
   ]
  },
  {
   "cell_type": "code",
   "execution_count": 11,
   "metadata": {
    "collapsed": true
   },
   "outputs": [],
   "source": [
    "using CUTEst"
   ]
  },
  {
   "cell_type": "code",
   "execution_count": 12,
   "metadata": {
    "collapsed": false
   },
   "outputs": [
    {
     "data": {
      "text/plain": [
       "Minimization problem HS35\n",
       "nvar = 3, ncon = 1 (1 linear)\n"
      ]
     },
     "execution_count": 12,
     "metadata": {},
     "output_type": "execute_result"
    }
   ],
   "source": [
    "nlp = CUTEstModel(\"HS35\")"
   ]
  },
  {
   "cell_type": "code",
   "execution_count": 13,
   "metadata": {
    "collapsed": false
   },
   "outputs": [
    {
     "name": "stdout",
     "output_type": "stream",
     "text": [
      "Minimization problem "
     ]
    },
    {
     "data": {
      "text/plain": [
       "1x3 Array{Float64,2}:\n",
       " 0.0  0.0  0.0"
      ]
     },
     "metadata": {},
     "output_type": "display_data"
    },
    {
     "name": "stdout",
     "output_type": "stream",
     "text": [
      "HS35\n",
      "nvar = 3, ncon = 1 (1 linear)\n",
      "lvar = \n",
      "uvar = "
     ]
    },
    {
     "data": {
      "text/plain": [
       "1x3 Array{Float64,2}:\n",
       " 1.0e20  1.0e20  1.0e20"
      ]
     },
     "metadata": {},
     "output_type": "display_data"
    },
    {
     "data": {
      "text/plain": [
       "1x1 Array{Float64,2}:\n",
       " 0.0"
      ]
     },
     "metadata": {},
     "output_type": "display_data"
    },
    {
     "data": {
      "text/plain": [
       "1x1 Array{Float64,2}:\n",
       " 1.0e20"
      ]
     },
     "metadata": {},
     "output_type": "display_data"
    },
    {
     "data": {
      "text/plain": [
       "1x3 Array{Float64,2}:\n",
       " 0.5  0.5  0.5"
      ]
     },
     "metadata": {},
     "output_type": "display_data"
    },
    {
     "data": {
      "text/plain": [
       "1x1 Array{Float64,2}:\n",
       " 0.0"
      ]
     },
     "metadata": {},
     "output_type": "display_data"
    },
    {
     "data": {
      "text/plain": [
       "1x1 Array{Int64,2}:\n",
       " 1"
      ]
     },
     "metadata": {},
     "output_type": "display_data"
    },
    {
     "name": "stdout",
     "output_type": "stream",
     "text": [
      "\n",
      "lcon = \n",
      "ucon = \n",
      "x0 = \n",
      "y0 = \n",
      "nnzh = 5\n",
      "nnzj = 3\n",
      "linear constraints:    \n",
      "\n"
     ]
    }
   ],
   "source": [
    "println(nlp)"
   ]
  },
  {
   "cell_type": "markdown",
   "metadata": {},
   "source": [
    "Existem várias funções do CUTEst, e por enquanto ainda não temos a documentação\n",
    "completa de todas. No entanto, as funções originais do CUTEst estão presentes,\n",
    "e em alguns casos, com mais de uma interface.\n",
    "\n",
    "Por exemplo, sabemos que a função `cfn` existe. Podemos fazer"
   ]
  },
  {
   "cell_type": "code",
   "execution_count": 14,
   "metadata": {
    "collapsed": false
   },
   "outputs": [
    {
     "data": {
      "text/latex": [
       "\\section{cfn}\n",
       "The cfn subroutine evaluates the value of the objective function and general constraint functions of the problem decoded from a SIF file by the script sifdecoder at the point X. The problem under consideration is to minimize or maximize an objective function f(x) over all x ∈ Rn subject to general equations ci(x)=0, (i ∈ 1,...,mE), general inequalities ci(x)≤ci(x)≤ci(x), (i ∈ mE+1,...,m), and simple bounds xl≤x≤xu. The objective function is group-partially separable and all constraint functions are partially separable.\n",
       "This help was generated automatically and may contain errors. For more information, run the shell command\n",
       "\\begin{verbatim}\n",
       "man cutest_cfn\n",
       "\\end{verbatim}\n",
       "Usage:\n",
       "\\begin{verbatim}\n",
       "cfn(io_err, n, m, x, f, c)\n",
       "\\end{verbatim}\n",
       "\\begin{itemize}\n",
       "\\item io\\_err:  [OUT] Array\\{Cint, 1\\}\n",
       "\\item n:       [IN] Array\\{Cint, 1\\}\n",
       "\\item m:       [IN] Array\\{Cint, 1\\}\n",
       "\\item x:       [IN] Array\\{Cdouble, 1\\}\n",
       "\\item f:       [OUT] Array\\{Cdouble, 1\\}\n",
       "\\item c:       [OUT] Array\\{Cdouble, 1\\}\n",
       "\\end{itemize}\n",
       "\\begin{verbatim}\n",
       "f, c = cfn(n, m, x)\n",
       "\\end{verbatim}\n",
       "\\begin{itemize}\n",
       "\\item n:       [IN] Int\n",
       "\\item m:       [IN] Int\n",
       "\\item x:       [IN] Array\\{Float64, 1\\}\n",
       "\\item f:       [OUT] Float64\n",
       "\\item c:       [OUT] Array\\{Float64, 1\\}\n",
       "\\end{itemize}\n",
       "\\begin{verbatim}\n",
       "f = cfn!(n, m, x, c)\n",
       "\\end{verbatim}\n",
       "\\begin{itemize}\n",
       "\\item n:       [IN] Int\n",
       "\\item m:       [IN] Int\n",
       "\\item x:       [IN] Array\\{Float64, 1\\}\n",
       "\\item f:       [OUT] Float64\n",
       "\\item c:       [OUT] Array\\{Float64, 1\\}\n",
       "\\end{itemize}\n",
       "\\begin{verbatim}\n",
       "f, c = cfn(nlp, x)\n",
       "\\end{verbatim}\n",
       "\\begin{itemize}\n",
       "\\item nlp:     [IN] CUTEstModel\n",
       "\\item x:       [IN] Array\\{Float64, 1\\}\n",
       "\\item f:       [OUT] Float64\n",
       "\\item c:       [OUT] Array\\{Float64, 1\\}\n",
       "\\end{itemize}\n",
       "\\begin{verbatim}\n",
       "f = cfn!(nlp, x, c)\n",
       "\\end{verbatim}\n",
       "\\begin{itemize}\n",
       "\\item nlp:     [IN] CUTEstModel\n",
       "\\item x:       [IN] Array\\{Float64, 1\\}\n",
       "\\item f:       [OUT] Float64\n",
       "\\item c:       [OUT] Array\\{Float64, 1\\}\n",
       "\\end{itemize}\n"
      ],
      "text/markdown": [
       "# cfn\n",
       "\n",
       "The cfn subroutine evaluates the value of the objective function and general constraint functions of the problem decoded from a SIF file by the script sifdecoder at the point X. The problem under consideration is to minimize or maximize an objective function f(x) over all x ∈ Rn subject to general equations ci(x)=0, (i ∈ 1,...,mE), general inequalities ci(x)≤ci(x)≤ci(x), (i ∈ mE+1,...,m), and simple bounds xl≤x≤xu. The objective function is group-partially separable and all constraint functions are partially separable.\n",
       "\n",
       "This help was generated automatically and may contain errors. For more information, run the shell command\n",
       "\n",
       "```\n",
       "man cutest_cfn\n",
       "```\n",
       "\n",
       "Usage:\n",
       "\n",
       "```\n",
       "cfn(io_err, n, m, x, f, c)\n",
       "```\n",
       "\n",
       "  * io_err:  [OUT] Array{Cint, 1}\n",
       "  * n:       [IN] Array{Cint, 1}\n",
       "  * m:       [IN] Array{Cint, 1}\n",
       "  * x:       [IN] Array{Cdouble, 1}\n",
       "  * f:       [OUT] Array{Cdouble, 1}\n",
       "  * c:       [OUT] Array{Cdouble, 1}\n",
       "\n",
       "```\n",
       "f, c = cfn(n, m, x)\n",
       "```\n",
       "\n",
       "  * n:       [IN] Int\n",
       "  * m:       [IN] Int\n",
       "  * x:       [IN] Array{Float64, 1}\n",
       "  * f:       [OUT] Float64\n",
       "  * c:       [OUT] Array{Float64, 1}\n",
       "\n",
       "```\n",
       "f = cfn!(n, m, x, c)\n",
       "```\n",
       "\n",
       "  * n:       [IN] Int\n",
       "  * m:       [IN] Int\n",
       "  * x:       [IN] Array{Float64, 1}\n",
       "  * f:       [OUT] Float64\n",
       "  * c:       [OUT] Array{Float64, 1}\n",
       "\n",
       "```\n",
       "f, c = cfn(nlp, x)\n",
       "```\n",
       "\n",
       "  * nlp:     [IN] CUTEstModel\n",
       "  * x:       [IN] Array{Float64, 1}\n",
       "  * f:       [OUT] Float64\n",
       "  * c:       [OUT] Array{Float64, 1}\n",
       "\n",
       "```\n",
       "f = cfn!(nlp, x, c)\n",
       "```\n",
       "\n",
       "  * nlp:     [IN] CUTEstModel\n",
       "  * x:       [IN] Array{Float64, 1}\n",
       "  * f:       [OUT] Float64\n",
       "  * c:       [OUT] Array{Float64, 1}\n"
      ],
      "text/plain": [
       "# cfn\n",
       "\n",
       "The cfn subroutine evaluates the value of the objective function and general constraint functions of the problem decoded from a SIF file by the script sifdecoder at the point X. The problem under consideration is to minimize or maximize an objective function f(x) over all x ∈ Rn subject to general equations ci(x)=0, (i ∈ 1,...,mE), general inequalities ci(x)≤ci(x)≤ci(x), (i ∈ mE+1,...,m), and simple bounds xl≤x≤xu. The objective function is group-partially separable and all constraint functions are partially separable.\n",
       "\n",
       "This help was generated automatically and may contain errors. For more information, run the shell command\n",
       "\n",
       "```\n",
       "man cutest_cfn\n",
       "```\n",
       "\n",
       "Usage:\n",
       "\n",
       "```\n",
       "cfn(io_err, n, m, x, f, c)\n",
       "```\n",
       "\n",
       "  * io_err:  [OUT] Array{Cint, 1}\n",
       "  * n:       [IN] Array{Cint, 1}\n",
       "  * m:       [IN] Array{Cint, 1}\n",
       "  * x:       [IN] Array{Cdouble, 1}\n",
       "  * f:       [OUT] Array{Cdouble, 1}\n",
       "  * c:       [OUT] Array{Cdouble, 1}\n",
       "\n",
       "```\n",
       "f, c = cfn(n, m, x)\n",
       "```\n",
       "\n",
       "  * n:       [IN] Int\n",
       "  * m:       [IN] Int\n",
       "  * x:       [IN] Array{Float64, 1}\n",
       "  * f:       [OUT] Float64\n",
       "  * c:       [OUT] Array{Float64, 1}\n",
       "\n",
       "```\n",
       "f = cfn!(n, m, x, c)\n",
       "```\n",
       "\n",
       "  * n:       [IN] Int\n",
       "  * m:       [IN] Int\n",
       "  * x:       [IN] Array{Float64, 1}\n",
       "  * f:       [OUT] Float64\n",
       "  * c:       [OUT] Array{Float64, 1}\n",
       "\n",
       "```\n",
       "f, c = cfn(nlp, x)\n",
       "```\n",
       "\n",
       "  * nlp:     [IN] CUTEstModel\n",
       "  * x:       [IN] Array{Float64, 1}\n",
       "  * f:       [OUT] Float64\n",
       "  * c:       [OUT] Array{Float64, 1}\n",
       "\n",
       "```\n",
       "f = cfn!(nlp, x, c)\n",
       "```\n",
       "\n",
       "  * nlp:     [IN] CUTEstModel\n",
       "  * x:       [IN] Array{Float64, 1}\n",
       "  * f:       [OUT] Float64\n",
       "  * c:       [OUT] Array{Float64, 1}\n"
      ]
     },
     "execution_count": 14,
     "metadata": {},
     "output_type": "execute_result"
    }
   ],
   "source": [
    "?cfn"
   ]
  },
  {
   "cell_type": "markdown",
   "metadata": {},
   "source": [
    "Agora, podemos escolher o que usar. Nesse caso, o mais simples é"
   ]
  },
  {
   "cell_type": "code",
   "execution_count": 15,
   "metadata": {
    "collapsed": false
   },
   "outputs": [
    {
     "name": "stdout",
     "output_type": "stream",
     "text": [
      "search: cfn cfn! cfunction IntrinsicFunction broadcast_function cutest_finalize\n",
      "\n"
     ]
    },
    {
     "data": {
      "text/plain": [
       "(2.25,[1.0])"
      ]
     },
     "execution_count": 15,
     "metadata": {},
     "output_type": "execute_result"
    }
   ],
   "source": [
    "x = nlp.meta.x0\n",
    "fx, c = cfn(nlp, x)"
   ]
  },
  {
   "cell_type": "markdown",
   "metadata": {},
   "source": [
    "Note que *cfn* é uma função para problemas com restrição.\n",
    "Para problema irrestritos devemos usar *ufn*.\n",
    "Vamos testar com o problema *BARD*.\n",
    "Para isso, devemos finalizar o problema atual."
   ]
  },
  {
   "cell_type": "code",
   "execution_count": 16,
   "metadata": {
    "collapsed": false
   },
   "outputs": [],
   "source": [
    "cutest_finalize(nlp)"
   ]
  },
  {
   "cell_type": "code",
   "execution_count": 17,
   "metadata": {
    "collapsed": false
   },
   "outputs": [
    {
     "data": {
      "text/plain": [
       "Minimization problem BARD\n",
       "nvar = 3, ncon = 0 (0 linear)\n"
      ]
     },
     "execution_count": 17,
     "metadata": {},
     "output_type": "execute_result"
    }
   ],
   "source": [
    "nlp = CUTEstModel(\"BARD\")"
   ]
  },
  {
   "cell_type": "code",
   "execution_count": 18,
   "metadata": {
    "collapsed": false
   },
   "outputs": [
    {
     "data": {
      "text/plain": [
       "41.68169586167801"
      ]
     },
     "execution_count": 18,
     "metadata": {},
     "output_type": "execute_result"
    }
   ],
   "source": [
    "fx = ufn(nlp, nlp.meta.x0)"
   ]
  },
  {
   "cell_type": "code",
   "execution_count": 19,
   "metadata": {
    "collapsed": false
   },
   "outputs": [
    {
     "name": "stdout",
     "output_type": "stream",
     "text": [
      "Minimization problem "
     ]
    },
    {
     "data": {
      "text/plain": [
       "1x3 Array{Float64,2}:\n",
       " -1.0e20  -1.0e20  -1.0e20"
      ]
     },
     "metadata": {},
     "output_type": "display_data"
    },
    {
     "data": {
      "text/plain": [
       "1x3 Array{Float64,2}:\n",
       " 1.0e20  1.0e20  1.0e20"
      ]
     },
     "metadata": {},
     "output_type": "display_data"
    },
    {
     "data": {
      "text/plain": [
       "1x0 Array{Float64,2}"
      ]
     },
     "metadata": {},
     "output_type": "display_data"
    },
    {
     "data": {
      "text/plain": [
       "1x0 Array{Float64,2}"
      ]
     },
     "metadata": {},
     "output_type": "display_data"
    },
    {
     "data": {
      "text/plain": [
       "1x3 Array{Float64,2}:\n",
       " 1.0  1.0  1.0"
      ]
     },
     "metadata": {},
     "output_type": "display_data"
    },
    {
     "data": {
      "text/plain": [
       "1x0 Array{Float64,2}"
      ]
     },
     "metadata": {},
     "output_type": "display_data"
    }
   ],
   "source": [
    "println(nlp)"
   ]
  },
  {
   "cell_type": "markdown",
   "metadata": {},
   "source": [
    "Essas funções são melhorias sobre as funções originais do CUTEst,\n",
    "no entanto, também é possível acessar as funções originais."
   ]
  },
  {
   "cell_type": "code",
   "execution_count": 20,
   "metadata": {
    "collapsed": false
   },
   "outputs": [
    {
     "data": {
      "text/latex": [
       "\\section{ufn}\n",
       "The ufn subroutine evaluates the value of the objective function of the problem decoded from a SIF file by the script sifdecoder at the point X. The problem under consideration is to minimize or maximize an objective function f(x) over all x ∈ Rn subject to the simple bounds xl≤x≤xu. The objective function is group-partially separable.\n",
       "This help was generated automatically and may contain errors. For more information, run the shell command\n",
       "\\begin{verbatim}\n",
       "man cutest_ufn\n",
       "\\end{verbatim}\n",
       "Usage:\n",
       "\\begin{verbatim}\n",
       "ufn(io_err, n, x, f)\n",
       "\\end{verbatim}\n",
       "\\begin{itemize}\n",
       "\\item io\\_err:  [OUT] Array\\{Cint, 1\\}\n",
       "\\item n:       [IN] Array\\{Cint, 1\\}\n",
       "\\item x:       [IN] Array\\{Cdouble, 1\\}\n",
       "\\item f:       [OUT] Array\\{Cdouble, 1\\}\n",
       "\\end{itemize}\n",
       "\\begin{verbatim}\n",
       "f = ufn(n, x)\n",
       "\\end{verbatim}\n",
       "\\begin{itemize}\n",
       "\\item n:       [IN] Int\n",
       "\\item x:       [IN] Array\\{Float64, 1\\}\n",
       "\\item f:       [OUT] Float64\n",
       "\\end{itemize}\n",
       "\\begin{verbatim}\n",
       "f = ufn(nlp, x)\n",
       "\\end{verbatim}\n",
       "\\begin{itemize}\n",
       "\\item nlp:     [IN] CUTEstModel\n",
       "\\item x:       [IN] Array\\{Float64, 1\\}\n",
       "\\item f:       [OUT] Float64\n",
       "\\end{itemize}\n"
      ],
      "text/markdown": [
       "# ufn\n",
       "\n",
       "The ufn subroutine evaluates the value of the objective function of the problem decoded from a SIF file by the script sifdecoder at the point X. The problem under consideration is to minimize or maximize an objective function f(x) over all x ∈ Rn subject to the simple bounds xl≤x≤xu. The objective function is group-partially separable.\n",
       "\n",
       "This help was generated automatically and may contain errors. For more information, run the shell command\n",
       "\n",
       "```\n",
       "man cutest_ufn\n",
       "```\n",
       "\n",
       "Usage:\n",
       "\n",
       "```\n",
       "ufn(io_err, n, x, f)\n",
       "```\n",
       "\n",
       "  * io_err:  [OUT] Array{Cint, 1}\n",
       "  * n:       [IN] Array{Cint, 1}\n",
       "  * x:       [IN] Array{Cdouble, 1}\n",
       "  * f:       [OUT] Array{Cdouble, 1}\n",
       "\n",
       "```\n",
       "f = ufn(n, x)\n",
       "```\n",
       "\n",
       "  * n:       [IN] Int\n",
       "  * x:       [IN] Array{Float64, 1}\n",
       "  * f:       [OUT] Float64\n",
       "\n",
       "```\n",
       "f = ufn(nlp, x)\n",
       "```\n",
       "\n",
       "  * nlp:     [IN] CUTEstModel\n",
       "  * x:       [IN] Array{Float64, 1}\n",
       "  * f:       [OUT] Float64\n"
      ],
      "text/plain": [
       "# ufn\n",
       "\n",
       "The ufn subroutine evaluates the value of the objective function of the problem decoded from a SIF file by the script sifdecoder at the point X. The problem under consideration is to minimize or maximize an objective function f(x) over all x ∈ Rn subject to the simple bounds xl≤x≤xu. The objective function is group-partially separable.\n",
       "\n",
       "This help was generated automatically and may contain errors. For more information, run the shell command\n",
       "\n",
       "```\n",
       "man cutest_ufn\n",
       "```\n",
       "\n",
       "Usage:\n",
       "\n",
       "```\n",
       "ufn(io_err, n, x, f)\n",
       "```\n",
       "\n",
       "  * io_err:  [OUT] Array{Cint, 1}\n",
       "  * n:       [IN] Array{Cint, 1}\n",
       "  * x:       [IN] Array{Cdouble, 1}\n",
       "  * f:       [OUT] Array{Cdouble, 1}\n",
       "\n",
       "```\n",
       "f = ufn(n, x)\n",
       "```\n",
       "\n",
       "  * n:       [IN] Int\n",
       "  * x:       [IN] Array{Float64, 1}\n",
       "  * f:       [OUT] Float64\n",
       "\n",
       "```\n",
       "f = ufn(nlp, x)\n",
       "```\n",
       "\n",
       "  * nlp:     [IN] CUTEstModel\n",
       "  * x:       [IN] Array{Float64, 1}\n",
       "  * f:       [OUT] Float64\n"
      ]
     },
     "execution_count": 20,
     "metadata": {},
     "output_type": "execute_result"
    }
   ],
   "source": [
    "?ufn"
   ]
  },
  {
   "cell_type": "code",
   "execution_count": 21,
   "metadata": {
    "collapsed": false
   },
   "outputs": [],
   "source": [
    "io_err = Cint[0]\n",
    "n = Cint[nlp.meta.nvar]\n",
    "x = nlp.meta.x0\n",
    "fx = [0.0]\n",
    "ufn(io_err, n, x, fx)"
   ]
  },
  {
   "cell_type": "code",
   "execution_count": 22,
   "metadata": {
    "collapsed": false
   },
   "outputs": [],
   "source": [
    "println(fx)"
   ]
  },
  {
   "cell_type": "markdown",
   "metadata": {},
   "source": [
    "A simplificação deixa o código muito mais limpo, mas a versão original é mais\n",
    "rápida."
   ]
  },
  {
   "cell_type": "markdown",
   "metadata": {},
   "source": [
    "Além disso, temos também algumas funções feitas para facilitar ainda\n",
    "mais o uso do CUTEst."
   ]
  },
  {
   "cell_type": "code",
   "execution_count": 23,
   "metadata": {
    "collapsed": false
   },
   "outputs": [
    {
     "data": {
      "text/plain": [
       "41.68169586167801"
      ]
     },
     "execution_count": 23,
     "metadata": {},
     "output_type": "execute_result"
    }
   ],
   "source": [
    "fx = obj(nlp, nlp.meta.x0)"
   ]
  },
  {
   "cell_type": "markdown",
   "metadata": {},
   "source": [
    "Essa função verifica se deve ser usado ufn ou cfn dentro do código.\n",
    "Por isso será mais lenta. No entanto, é muito mais prática.\n",
    "\n",
    "Outros exemplos"
   ]
  },
  {
   "cell_type": "code",
   "execution_count": 24,
   "metadata": {
    "collapsed": false
   },
   "outputs": [
    {
     "name": "stdout",
     "output_type": "stream",
     "text": [
      "BARD\n",
      "nvar = 3, ncon = 0 (0 linear)\n",
      "lvar = \n",
      "uvar = \n",
      "lcon = \n",
      "ucon = \n",
      "x0 = \n",
      "y0 = \n",
      "nnzh = 6\n",
      "nnzj = 0\n",
      "\n",
      "search: ufn ufn! UTF8String takebuf_string cutest_finalize UTF32String\n",
      "\n",
      "[41.68169586167801]\n"
     ]
    },
    {
     "data": {
      "text/plain": [
       "3-element Array{Float64,1}:\n",
       " 80.0\n",
       "  0.0\n",
       "  0.0"
      ]
     },
     "execution_count": 24,
     "metadata": {},
     "output_type": "execute_result"
    }
   ],
   "source": [
    "cutest_finalize(nlp); nlp = CUTEstModel(\"BT3\")\n",
    "cx = cons(nlp, nlp.meta.x0)"
   ]
  },
  {
   "cell_type": "code",
   "execution_count": 25,
   "metadata": {
    "collapsed": false
   },
   "outputs": [
    {
     "data": {
      "text/plain": [
       "5x5 sparse matrix with 9 Float64 entries:\n",
       "\t[1, 1]  =  2.0\n",
       "\t[2, 1]  =  -2.0\n",
       "\t[1, 2]  =  -2.0\n",
       "\t[2, 2]  =  4.0\n",
       "\t[3, 2]  =  2.0\n",
       "\t[2, 3]  =  2.0\n",
       "\t[3, 3]  =  2.0\n",
       "\t[4, 4]  =  2.0\n",
       "\t[5, 5]  =  2.0"
      ]
     },
     "execution_count": 25,
     "metadata": {},
     "output_type": "execute_result"
    }
   ],
   "source": [
    "Hx = hess(nlp, nlp.meta.x0)"
   ]
  },
  {
   "cell_type": "code",
   "execution_count": 26,
   "metadata": {
    "collapsed": false
   },
   "outputs": [
    {
     "data": {
      "text/plain": [
       "5x5 sparse matrix with 9 Float64 entries:\n",
       "\t[1, 1]  =  2.0\n",
       "\t[2, 1]  =  -2.0\n",
       "\t[1, 2]  =  -2.0\n",
       "\t[2, 2]  =  4.0\n",
       "\t[3, 2]  =  2.0\n",
       "\t[2, 3]  =  2.0\n",
       "\t[3, 3]  =  2.0\n",
       "\t[4, 4]  =  2.0\n",
       "\t[5, 5]  =  2.0"
      ]
     },
     "execution_count": 26,
     "metadata": {},
     "output_type": "execute_result"
    }
   ],
   "source": [
    "Wx = hess(nlp, nlp.meta.x0, nlp.meta.y0)"
   ]
  },
  {
   "cell_type": "code",
   "execution_count": 27,
   "metadata": {
    "collapsed": false
   },
   "outputs": [
    {
     "data": {
      "text/plain": [
       "3x5 sparse matrix with 7 Float64 entries:\n",
       "\t[1, 1]  =  1.0\n",
       "\t[1, 2]  =  3.0\n",
       "\t[3, 2]  =  1.0\n",
       "\t[2, 3]  =  1.0\n",
       "\t[2, 4]  =  1.0\n",
       "\t[2, 5]  =  -2.0\n",
       "\t[3, 5]  =  -1.0"
      ]
     },
     "execution_count": 27,
     "metadata": {},
     "output_type": "execute_result"
    }
   ],
   "source": [
    "Jx = jac(nlp, nlp.meta.x0)"
   ]
  },
  {
   "cell_type": "code",
   "execution_count": 28,
   "metadata": {
    "collapsed": false
   },
   "outputs": [
    {
     "data": {
      "text/plain": [
       "Minimization problem ROSENBR\n",
       "nvar = 2, ncon = 0 (0 linear)\n"
      ]
     },
     "execution_count": 28,
     "metadata": {},
     "output_type": "execute_result"
    }
   ],
   "source": [
    "cutest_finalize(nlp); nlp = CUTEstModel(\"ROSENBR\")"
   ]
  },
  {
   "cell_type": "markdown",
   "metadata": {},
   "source": [
    "## Usando com nosso algoritmo\n",
    "\n",
    "Note que a função do CUTEst não segue o padrão da função que\n",
    "usamos no nosso algoritmo. Mas isso pode ser facilmente resolvido."
   ]
  },
  {
   "cell_type": "code",
   "execution_count": 29,
   "metadata": {
    "collapsed": false
   },
   "outputs": [
    {
     "name": "stdout",
     "output_type": "stream",
     "text": [
      "x = [0.9999892095536529,0.9999783777769542], f(x) = 1.1660551597130936e-10; ef = 0; k = 1449\n"
     ]
    }
   ],
   "source": [
    "f(x) = obj(nlp, x)\n",
    "∇f(x) = grad(nlp, x)\n",
    "x, fx, ef, k = metodo_gradiente3(f, ∇f, nlp.meta.x0, ϵ=1e-5, kmax=100000)\n",
    "println(\"x = $x, f(x) = $fx; ef = $ef; k = $k\")"
   ]
  },
  {
   "cell_type": "markdown",
   "metadata": {},
   "source": [
    "Simples assim"
   ]
  },
  {
   "cell_type": "code",
   "execution_count": 30,
   "metadata": {
    "collapsed": false
   },
   "outputs": [
    {
     "data": {
      "text/plain": [
       "metodo_bfgs (generic function with 1 method)"
      ]
     },
     "execution_count": 30,
     "metadata": {},
     "output_type": "execute_result"
    }
   ],
   "source": [
    "function metodo_bfgs(f, ∇f, x₀; ϵ = 1e-4, α = 0.5, η = 0.5, kmax = 1000)\n",
    "    B = eye(length(x₀))\n",
    "    ef = 0\n",
    "    x = copy(x₀)\n",
    "    k = 0\n",
    "    while norm(∇f(x)) > ϵ\n",
    "        d = -B\\∇f(x)\n",
    "        dt∇f = dot(d,∇f(x))\n",
    "        t = 1.0\n",
    "        while f(x + t*d) > f(x) + α*t*dt∇f\n",
    "            t *= η\n",
    "        end\n",
    "        s = t*d\n",
    "        y = ∇f(x+s)- ∇f(x)\n",
    "        x = x + s\n",
    "        \n",
    "        k += 1\n",
    "        if k > kmax\n",
    "            ef = 1\n",
    "            break\n",
    "        end\n",
    "        \n",
    "        if dot(s,y) > 0.0\n",
    "            B = B + y*y'/dot(y,s) - B*s*s'*B/dot(s,B*s)\n",
    "        end\n",
    "    end\n",
    "    return x, f(x), ef, k\n",
    "end"
   ]
  },
  {
   "cell_type": "code",
   "execution_count": 31,
   "metadata": {
    "collapsed": false
   },
   "outputs": [
    {
     "name": "stdout",
     "output_type": "stream",
     "text": [
      "x = [0.9999996948881412,0.9999993862916682], f(x) = 9.430756494150018e-14; ef = 0; k = 34\n"
     ]
    }
   ],
   "source": [
    "x, fx, ef, k = metodo_bfgs(f, ∇f, nlp.meta.x0, ϵ=1e-5, kmax=100000)\n",
    "println(\"x = $x, f(x) = $fx; ef = $ef; k = $k\")"
   ]
  },
  {
   "cell_type": "markdown",
   "metadata": {},
   "source": [
    "# Exercícios\n",
    "\n",
    "## Melhore o BFGS\n",
    "\n",
    "Faça algumas melhorias para evitar cálculos desnecessários.\n",
    "**Não mude deste BFGS para o explícito.**\n",
    "\n",
    "## Região de confiança\n",
    "\n",
    "Mude o método para usar região de confiança.\n",
    "\n",
    "## Método de Newton\n",
    "\n",
    "Implemente o método de Newton\n",
    "\n",
    "## Método restrito\n",
    "\n",
    "Implemente algum método com restrições\n",
    "\n",
    "## Método sem derivadas\n",
    "\n",
    "Implemente algum método sem derivada"
   ]
  }
 ],
 "metadata": {
  "kernelspec": {
   "display_name": "Julia 0.4.1",
   "language": "julia",
   "name": "julia-0.4"
  },
  "language_info": {
   "file_extension": ".jl",
   "mimetype": "application/julia",
   "name": "julia",
   "version": "0.4.1"
  }
 },
 "nbformat": 4,
 "nbformat_minor": 0
}
