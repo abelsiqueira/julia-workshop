{
 "cells": [
  {
   "cell_type": "markdown",
   "metadata": {},
   "source": [
    "# Dia 1 - Introdução à Julia\n",
    "\n",
    "Para começar, vamos conhecer a IDE.\n",
    "\n",
    " - Abra o julia: No terminal, use o comando\n",
    "````bash\n",
    "julia\n",
    "````\n",
    " - Abra o Atom\n",
    " - E este é o Jupyter notebook, que você abre no terminal com o comando\n",
    "````bash\n",
    "jupyter notebook\n",
    "````\n",
    "\n",
    "No Jupyter notebook alternamos entre texto e comandos (neste caso do Julia).\n",
    "Os mesmos comandos funcionam no julia aberto pelo terminal."
   ]
  },
  {
   "cell_type": "code",
   "execution_count": 2,
   "metadata": {
    "collapsed": false
   },
   "outputs": [
    {
     "data": {
      "text/plain": [
       "4"
      ]
     },
     "execution_count": 2,
     "metadata": {},
     "output_type": "execute_result"
    }
   ],
   "source": [
    "2+2"
   ]
  },
  {
   "cell_type": "code",
   "execution_count": 3,
   "metadata": {
    "collapsed": false
   },
   "outputs": [
    {
     "data": {
      "text/plain": [
       "243"
      ]
     },
     "execution_count": 3,
     "metadata": {},
     "output_type": "execute_result"
    }
   ],
   "source": [
    "3^5"
   ]
  },
  {
   "cell_type": "code",
   "execution_count": 4,
   "metadata": {
    "collapsed": false
   },
   "outputs": [
    {
     "data": {
      "text/plain": [
       "5-element Array{Float64,1}:\n",
       " 0.415346\n",
       " 0.456934\n",
       " 0.410073\n",
       " 0.96471 \n",
       " 0.622741"
      ]
     },
     "execution_count": 4,
     "metadata": {},
     "output_type": "execute_result"
    }
   ],
   "source": [
    "v = rand(5)"
   ]
  },
  {
   "cell_type": "code",
   "execution_count": 16,
   "metadata": {
    "collapsed": false
   },
   "outputs": [
    {
     "data": {
      "text/plain": [
       "3-element Array{Float64,1}:\n",
       " 1.0\n",
       " 1.0\n",
       " 1.0"
      ]
     },
     "execution_count": 16,
     "metadata": {},
     "output_type": "execute_result"
    }
   ],
   "source": [
    "e = ones(3)"
   ]
  },
  {
   "cell_type": "code",
   "execution_count": 6,
   "metadata": {
    "collapsed": false
   },
   "outputs": [
    {
     "data": {
      "text/plain": [
       "5-element Array{Float64,1}:\n",
       " 0.0\n",
       " 0.0\n",
       " 0.0\n",
       " 0.0\n",
       " 0.0"
      ]
     },
     "execution_count": 6,
     "metadata": {},
     "output_type": "execute_result"
    }
   ],
   "source": [
    "z = zeros(5)"
   ]
  },
  {
   "cell_type": "code",
   "execution_count": 7,
   "metadata": {
    "collapsed": false
   },
   "outputs": [
    {
     "data": {
      "text/plain": [
       "3x5 Array{Float64,2}:\n",
       " 0.605059  0.553652   0.595556  0.047726  0.0378159\n",
       " 0.105525  0.0697729  0.261311  0.822387  0.636855 \n",
       " 0.579466  0.920851   0.300676  0.784652  0.985102 "
      ]
     },
     "execution_count": 7,
     "metadata": {},
     "output_type": "execute_result"
    }
   ],
   "source": [
    "A = rand(3,5)"
   ]
  },
  {
   "cell_type": "code",
   "execution_count": 8,
   "metadata": {
    "collapsed": false
   },
   "outputs": [
    {
     "data": {
      "text/plain": [
       "3x3 UpperTriangular{Float64,Array{Float64,2}}:\n",
       " 1.01539  0.316564  1.09732 \n",
       " 0.0      1.03246   1.09375 \n",
       " 0.0      0.0       0.678133"
      ]
     },
     "execution_count": 8,
     "metadata": {},
     "output_type": "execute_result"
    }
   ],
   "source": [
    "G = chol(A*A')"
   ]
  },
  {
   "cell_type": "code",
   "execution_count": 17,
   "metadata": {
    "collapsed": false
   },
   "outputs": [
    {
     "data": {
      "text/plain": [
       "3-element Array{Float64,1}:\n",
       " 2.46667\n",
       " 2.96425\n",
       " 5.45109"
      ]
     },
     "execution_count": 17,
     "metadata": {},
     "output_type": "execute_result"
    }
   ],
   "source": [
    "b = A*(A'*e)"
   ]
  },
  {
   "cell_type": "markdown",
   "metadata": {},
   "source": [
    "$$ AA^Tx = b \\qquad \\mbox{e} \\qquad\n",
    "G^TG = AA^T \\qquad\n",
    "\\Longrightarrow \\qquad x = G^{-1}G^{-T}b $$"
   ]
  },
  {
   "cell_type": "code",
   "execution_count": 18,
   "metadata": {
    "collapsed": false
   },
   "outputs": [
    {
     "data": {
      "text/plain": [
       "3-element Array{Float64,1}:\n",
       " 1.0\n",
       " 1.0\n",
       " 1.0"
      ]
     },
     "execution_count": 18,
     "metadata": {},
     "output_type": "execute_result"
    }
   ],
   "source": [
    "x = G\\(G'\\b)"
   ]
  },
  {
   "cell_type": "code",
   "execution_count": 19,
   "metadata": {
    "collapsed": false
   },
   "outputs": [
    {
     "data": {
      "text/plain": [
       "3-element Array{Float64,1}:\n",
       " -4.44089e-16\n",
       " -1.11022e-15\n",
       "  8.88178e-16"
      ]
     },
     "execution_count": 19,
     "metadata": {},
     "output_type": "execute_result"
    }
   ],
   "source": [
    "x-e"
   ]
  },
  {
   "cell_type": "code",
   "execution_count": 20,
   "metadata": {
    "collapsed": false
   },
   "outputs": [
    {
     "data": {
      "text/plain": [
       "5"
      ]
     },
     "execution_count": 20,
     "metadata": {},
     "output_type": "execute_result"
    }
   ],
   "source": [
    "n = 5"
   ]
  },
  {
   "cell_type": "code",
   "execution_count": 34,
   "metadata": {
    "collapsed": false
   },
   "outputs": [
    {
     "name": "stdout",
     "output_type": "stream",
     "text": [
      "A = \n",
      "[1.0 2.0 3.0 4.0 5.0\n",
      " 2.0 3.0 4.0 5.0 6.0\n",
      " 3.0 4.0 5.0 6.0 7.0\n",
      " 4.0 5.0 6.0 7.0 8.0\n",
      " 5.0 6.0 7.0 8.0 9.0]\n"
     ]
    }
   ],
   "source": [
    "A = zeros(n,n)\n",
    "for i = 1:n\n",
    "    for j = 1:n\n",
    "        A[i,j] = i + j - 1\n",
    "    end\n",
    "end\n",
    "println(\"A = \\n$A\")"
   ]
  },
  {
   "cell_type": "code",
   "execution_count": 40,
   "metadata": {
    "collapsed": false
   },
   "outputs": [
    {
     "data": {
      "text/plain": [
       "soma_tudo (generic function with 1 method)"
      ]
     },
     "execution_count": 40,
     "metadata": {},
     "output_type": "execute_result"
    }
   ],
   "source": [
    "# Uma função que soma todos os elementos de A\n",
    "function soma_tudo(A)\n",
    "    soma = 0.0\n",
    "    (m,n) = size(A)\n",
    "    for i = 1:m\n",
    "        for j = 1:n\n",
    "            soma += A[i,j]\n",
    "        end\n",
    "    end\n",
    "    return soma\n",
    "end"
   ]
  },
  {
   "cell_type": "code",
   "execution_count": 41,
   "metadata": {
    "collapsed": false
   },
   "outputs": [
    {
     "data": {
      "text/plain": [
       "125.0"
      ]
     },
     "execution_count": 41,
     "metadata": {},
     "output_type": "execute_result"
    }
   ],
   "source": [
    "soma_tudo(A)"
   ]
  },
  {
   "cell_type": "code",
   "execution_count": 42,
   "metadata": {
    "collapsed": false
   },
   "outputs": [
    {
     "data": {
      "text/plain": [
       "f (generic function with 1 method)"
      ]
     },
     "execution_count": 42,
     "metadata": {},
     "output_type": "execute_result"
    }
   ],
   "source": [
    "f(x) = x^2 - 5x + 6"
   ]
  },
  {
   "cell_type": "code",
   "execution_count": 43,
   "metadata": {
    "collapsed": false
   },
   "outputs": [
    {
     "data": {
      "text/plain": [
       "0"
      ]
     },
     "execution_count": 43,
     "metadata": {},
     "output_type": "execute_result"
    }
   ],
   "source": [
    "f(2)"
   ]
  },
  {
   "cell_type": "code",
   "execution_count": 44,
   "metadata": {
    "collapsed": false
   },
   "outputs": [
    {
     "data": {
      "text/plain": [
       "0"
      ]
     },
     "execution_count": 44,
     "metadata": {},
     "output_type": "execute_result"
    }
   ],
   "source": [
    "f(3)"
   ]
  },
  {
   "cell_type": "code",
   "execution_count": 45,
   "metadata": {
    "collapsed": false
   },
   "outputs": [
    {
     "data": {
      "text/plain": [
       "2"
      ]
     },
     "execution_count": 45,
     "metadata": {},
     "output_type": "execute_result"
    }
   ],
   "source": [
    "f(4)"
   ]
  },
  {
   "cell_type": "code",
   "execution_count": 46,
   "metadata": {
    "collapsed": false
   },
   "outputs": [
    {
     "data": {
      "text/plain": [
       "2"
      ]
     },
     "execution_count": 46,
     "metadata": {},
     "output_type": "execute_result"
    }
   ],
   "source": [
    "f(1)"
   ]
  },
  {
   "cell_type": "code",
   "execution_count": 47,
   "metadata": {
    "collapsed": false
   },
   "outputs": [
    {
     "data": {
      "text/plain": [
       "integral (generic function with 1 method)"
      ]
     },
     "execution_count": 47,
     "metadata": {},
     "output_type": "execute_result"
    }
   ],
   "source": [
    "function integral(f, a, b)\n",
    "    N = 50\n",
    "    I = (f(a) + f(b))/2\n",
    "    h = (b-a)/N\n",
    "    for i = 1:N-1\n",
    "        I += f(a + i*h)\n",
    "    end\n",
    "    return I*h\n",
    "end"
   ]
  },
  {
   "cell_type": "code",
   "execution_count": 50,
   "metadata": {
    "collapsed": false
   },
   "outputs": [
    {
     "data": {
      "text/plain": [
       "6.666666666710341e-5"
      ]
     },
     "execution_count": 50,
     "metadata": {},
     "output_type": "execute_result"
    }
   ],
   "source": [
    "integral(f, 0, 1) - (1/3 - 5/2 + 6)"
   ]
  },
  {
   "cell_type": "code",
   "execution_count": 51,
   "metadata": {
    "collapsed": false
   },
   "outputs": [
    {
     "data": {
      "text/plain": [
       "5.7275679112400724e-5"
      ]
     },
     "execution_count": 51,
     "metadata": {},
     "output_type": "execute_result"
    }
   ],
   "source": [
    "integral(x->exp(x), 0, 1) - (exp(1) - 1)"
   ]
  },
  {
   "cell_type": "markdown",
   "metadata": {},
   "source": [
    "## Argumentos opcionais"
   ]
  },
  {
   "cell_type": "code",
   "execution_count": 60,
   "metadata": {
    "collapsed": false
   },
   "outputs": [
    {
     "data": {
      "text/plain": [
       "integral2 (generic function with 2 methods)"
      ]
     },
     "execution_count": 60,
     "metadata": {},
     "output_type": "execute_result"
    }
   ],
   "source": [
    "function integral2(f, a, b, N = 50)\n",
    "    I = (f(a) + f(b))/2\n",
    "    h = (b-a)/N\n",
    "    for i = 1:N-1\n",
    "        I += f(a + i*h)\n",
    "    end\n",
    "    return I*h\n",
    "end"
   ]
  },
  {
   "cell_type": "code",
   "execution_count": 66,
   "metadata": {
    "collapsed": false
   },
   "outputs": [
    {
     "data": {
      "text/plain": [
       "1.43190151069561e-7"
      ]
     },
     "execution_count": 66,
     "metadata": {},
     "output_type": "execute_result"
    }
   ],
   "source": [
    "integral2(x->exp(x), 0, 1, 1000) - (exp(1) - 1)"
   ]
  },
  {
   "cell_type": "markdown",
   "metadata": {},
   "source": [
    "## Argumentos por palavra-chave"
   ]
  },
  {
   "cell_type": "code",
   "execution_count": 68,
   "metadata": {
    "collapsed": false
   },
   "outputs": [
    {
     "data": {
      "text/plain": [
       "integral3 (generic function with 1 method)"
      ]
     },
     "execution_count": 68,
     "metadata": {},
     "output_type": "execute_result"
    }
   ],
   "source": [
    "function integral3(f, a, b; N = 50)\n",
    "    I = (f(a) + f(b))/2\n",
    "    h = (b-a)/N\n",
    "    for i = 1:N-1\n",
    "        I += f(a + i*h)\n",
    "    end\n",
    "    return I*h\n",
    "end"
   ]
  },
  {
   "cell_type": "code",
   "execution_count": 69,
   "metadata": {
    "collapsed": false
   },
   "outputs": [
    {
     "data": {
      "text/plain": [
       "1.43190151069561e-7"
      ]
     },
     "execution_count": 69,
     "metadata": {},
     "output_type": "execute_result"
    }
   ],
   "source": [
    "integral3(x->exp(x), 0, 1, N = 1000) - (exp(1) - 1)"
   ]
  },
  {
   "cell_type": "markdown",
   "metadata": {},
   "source": [
    "## Besteira estética\n",
    "\n",
    "O Julia aceita vários caracteres especiais, e alguns tem significa especial.\n",
    "Para acessar uma grande parte deles podemos usar a definição do LaTeX e apertar o \n",
    "TAB para completar o símbolo.\n",
    "\n",
    "Muitas vezes usar o símbolo na variável facilita o entendimento.\n",
    "\n",
    "Note ainda que para usar esse símbolo no editor, o editor precisa estar configurado para isso."
   ]
  },
  {
   "cell_type": "code",
   "execution_count": 71,
   "metadata": {
    "collapsed": false
   },
   "outputs": [
    {
     "data": {
      "text/plain": [
       "π = 3.1415926535897..."
      ]
     },
     "execution_count": 71,
     "metadata": {},
     "output_type": "execute_result"
    }
   ],
   "source": [
    "π #\\pi"
   ]
  },
  {
   "cell_type": "code",
   "execution_count": 72,
   "metadata": {
    "collapsed": false
   },
   "outputs": [
    {
     "data": {
      "text/plain": [
       "0.01"
      ]
     },
     "execution_count": 72,
     "metadata": {},
     "output_type": "execute_result"
    }
   ],
   "source": [
    "α = 1e-2 #\\alpha"
   ]
  },
  {
   "cell_type": "code",
   "execution_count": 73,
   "metadata": {
    "collapsed": false
   },
   "outputs": [
    {
     "data": {
      "text/plain": [
       "∇f (generic function with 1 method)"
      ]
     },
     "execution_count": 73,
     "metadata": {},
     "output_type": "execute_result"
    }
   ],
   "source": [
    "A = rand(5,5)\n",
    "∇f(x) = 0.5*dot(x, A*x) #\\nabla"
   ]
  },
  {
   "cell_type": "code",
   "execution_count": 74,
   "metadata": {
    "collapsed": false
   },
   "outputs": [
    {
     "data": {
      "text/plain": [
       "6.431849888726262"
      ]
     },
     "execution_count": 74,
     "metadata": {},
     "output_type": "execute_result"
    }
   ],
   "source": [
    "∇f(ones(5))"
   ]
  },
  {
   "cell_type": "code",
   "execution_count": 75,
   "metadata": {
    "collapsed": false
   },
   "outputs": [
    {
     "data": {
      "text/plain": [
       "ξ (generic function with 1 method)"
      ]
     },
     "execution_count": 75,
     "metadata": {},
     "output_type": "execute_result"
    }
   ],
   "source": [
    "ξ(v,l,u) = max(l, min(u, v)) #\\xi"
   ]
  },
  {
   "cell_type": "code",
   "execution_count": 77,
   "metadata": {
    "collapsed": false
   },
   "outputs": [
    {
     "data": {
      "text/plain": [
       "5-element Array{Float64,1}:\n",
       " 169.141   \n",
       "   1.58721 \n",
       "   0.532098\n",
       "   1.68268 \n",
       "   0.13078 "
      ]
     },
     "execution_count": 77,
     "metadata": {},
     "output_type": "execute_result"
    }
   ],
   "source": [
    "l = rand(5); u = rand(5) + l; x = rand(5)./rand(5)"
   ]
  },
  {
   "cell_type": "code",
   "execution_count": 79,
   "metadata": {
    "collapsed": false
   },
   "outputs": [
    {
     "data": {
      "text/plain": [
       "5-element BitArray{1}:\n",
       " false\n",
       "  true\n",
       " false\n",
       " false\n",
       " false"
      ]
     },
     "execution_count": 79,
     "metadata": {},
     "output_type": "execute_result"
    }
   ],
   "source": [
    "l .<= v .<= u"
   ]
  },
  {
   "cell_type": "code",
   "execution_count": 80,
   "metadata": {
    "collapsed": false
   },
   "outputs": [
    {
     "data": {
      "text/plain": [
       "5-element Array{Float64,1}:\n",
       " 0.946834\n",
       " 0.864375\n",
       " 0.754468\n",
       " 0.532054\n",
       " 0.262623"
      ]
     },
     "execution_count": 80,
     "metadata": {},
     "output_type": "execute_result"
    }
   ],
   "source": [
    "w = ξ(x,l,u)"
   ]
  },
  {
   "cell_type": "code",
   "execution_count": 81,
   "metadata": {
    "collapsed": false
   },
   "outputs": [
    {
     "data": {
      "text/plain": [
       "5-element BitArray{1}:\n",
       " true\n",
       " true\n",
       " true\n",
       " true\n",
       " true"
      ]
     },
     "execution_count": 81,
     "metadata": {},
     "output_type": "execute_result"
    }
   ],
   "source": [
    "l .<= w .<= u"
   ]
  },
  {
   "cell_type": "code",
   "execution_count": 82,
   "metadata": {
    "collapsed": false
   },
   "outputs": [
    {
     "data": {
      "text/plain": [
       "5-element Array{Float64,1}:\n",
       " 0.0\n",
       " 0.0\n",
       " 0.0\n",
       " 0.0\n",
       " 0.0"
      ]
     },
     "execution_count": 82,
     "metadata": {},
     "output_type": "execute_result"
    }
   ],
   "source": [
    "x₀ = zeros(5) # x\\_0"
   ]
  },
  {
   "cell_type": "code",
   "execution_count": 84,
   "metadata": {
    "collapsed": false
   },
   "outputs": [
    {
     "data": {
      "text/plain": [
       "false"
      ]
     },
     "execution_count": 84,
     "metadata": {},
     "output_type": "execute_result"
    }
   ],
   "source": [
    "3 ∈ [2, 4, 5] # \\in"
   ]
  },
  {
   "cell_type": "code",
   "execution_count": 86,
   "metadata": {
    "collapsed": false
   },
   "outputs": [
    {
     "data": {
      "text/plain": [
       "4-element Array{Int64,1}:\n",
       " 2\n",
       " 3\n",
       " 1\n",
       " 5"
      ]
     },
     "execution_count": 86,
     "metadata": {},
     "output_type": "execute_result"
    }
   ],
   "source": [
    "[2, 3]∪[1, 5] #\\cup"
   ]
  },
  {
   "cell_type": "markdown",
   "metadata": {},
   "source": [
    "## Tipos\n",
    "\n",
    "Julia não precisa de declaração de tipos, inclusive às vezes não passar o tipo de um objeto facilita a otimização do compilador.\n",
    "No entanto, todo objeto tem um tipo, e existe uma hierarquia de tipos.\n",
    "Alguns tipos são abstratos, servindo de conexão entre os tipos, e alguns são concretos, como Int, Float64 e ASCIIString."
   ]
  },
  {
   "cell_type": "code",
   "execution_count": 145,
   "metadata": {
    "collapsed": false
   },
   "outputs": [
    {
     "data": {
      "text/plain": [
       "Int64"
      ]
     },
     "execution_count": 145,
     "metadata": {},
     "output_type": "execute_result"
    }
   ],
   "source": [
    "typeof(0)"
   ]
  },
  {
   "cell_type": "code",
   "execution_count": 146,
   "metadata": {
    "collapsed": false
   },
   "outputs": [
    {
     "data": {
      "text/plain": [
       "Float64"
      ]
     },
     "execution_count": 146,
     "metadata": {},
     "output_type": "execute_result"
    }
   ],
   "source": [
    "typeof(0.0)"
   ]
  },
  {
   "cell_type": "code",
   "execution_count": 147,
   "metadata": {
    "collapsed": false
   },
   "outputs": [
    {
     "data": {
      "text/plain": [
       "ASCIIString"
      ]
     },
     "execution_count": 147,
     "metadata": {},
     "output_type": "execute_result"
    }
   ],
   "source": [
    "typeof(\"\")"
   ]
  },
  {
   "cell_type": "code",
   "execution_count": 148,
   "metadata": {
    "collapsed": false
   },
   "outputs": [
    {
     "data": {
      "text/plain": [
       "Array{Float64,1}"
      ]
     },
     "execution_count": 148,
     "metadata": {},
     "output_type": "execute_result"
    }
   ],
   "source": [
    "typeof(rand(3))"
   ]
  },
  {
   "cell_type": "code",
   "execution_count": 157,
   "metadata": {
    "collapsed": false
   },
   "outputs": [
    {
     "data": {
      "text/plain": [
       "Tuple{Int64,Float64}"
      ]
     },
     "execution_count": 157,
     "metadata": {},
     "output_type": "execute_result"
    }
   ],
   "source": [
    "typeof((2,3.0))"
   ]
  },
  {
   "cell_type": "code",
   "execution_count": 212,
   "metadata": {
    "collapsed": false
   },
   "outputs": [
    {
     "data": {
      "text/plain": [
       "2-element Array{Float64,1}:\n",
       " 2.0\n",
       " 3.0"
      ]
     },
     "execution_count": 212,
     "metadata": {},
     "output_type": "execute_result"
    }
   ],
   "source": [
    "[2, 3.0]"
   ]
  },
  {
   "cell_type": "code",
   "execution_count": 213,
   "metadata": {
    "collapsed": false
   },
   "outputs": [
    {
     "data": {
      "text/plain": [
       "3-element Array{Any,1}:\n",
       " 2   \n",
       " 3.0 \n",
       "  \"a\""
      ]
     },
     "execution_count": 213,
     "metadata": {},
     "output_type": "execute_result"
    }
   ],
   "source": [
    "[2, 3.0, \"a\"]"
   ]
  },
  {
   "cell_type": "markdown",
   "metadata": {},
   "source": [
    "Alguns tipos tem apelidos para facilitar o uso."
   ]
  },
  {
   "cell_type": "code",
   "execution_count": 150,
   "metadata": {
    "collapsed": false
   },
   "outputs": [
    {
     "data": {
      "text/plain": [
       "Int64"
      ]
     },
     "execution_count": 150,
     "metadata": {},
     "output_type": "execute_result"
    }
   ],
   "source": [
    "Int"
   ]
  },
  {
   "cell_type": "code",
   "execution_count": 152,
   "metadata": {
    "collapsed": false
   },
   "outputs": [
    {
     "data": {
      "text/plain": [
       "Array{T,1}"
      ]
     },
     "execution_count": 152,
     "metadata": {},
     "output_type": "execute_result"
    }
   ],
   "source": [
    "Vector"
   ]
  },
  {
   "cell_type": "code",
   "execution_count": 153,
   "metadata": {
    "collapsed": false
   },
   "outputs": [
    {
     "data": {
      "text/plain": [
       "Array{Int64,1}"
      ]
     },
     "execution_count": 153,
     "metadata": {},
     "output_type": "execute_result"
    }
   ],
   "source": [
    "Vector{Int}"
   ]
  },
  {
   "cell_type": "code",
   "execution_count": 154,
   "metadata": {
    "collapsed": false
   },
   "outputs": [
    {
     "data": {
      "text/plain": [
       "Array{T,2}"
      ]
     },
     "execution_count": 154,
     "metadata": {},
     "output_type": "execute_result"
    }
   ],
   "source": [
    "Matrix"
   ]
  },
  {
   "cell_type": "code",
   "execution_count": 169,
   "metadata": {
    "collapsed": false
   },
   "outputs": [
    {
     "data": {
      "text/plain": [
       "Array{Float64,2}"
      ]
     },
     "execution_count": 169,
     "metadata": {},
     "output_type": "execute_result"
    }
   ],
   "source": [
    "typeof(rand(3,3))"
   ]
  },
  {
   "cell_type": "code",
   "execution_count": 170,
   "metadata": {
    "collapsed": false
   },
   "outputs": [
    {
     "data": {
      "text/plain": [
       "Rational{Int64}"
      ]
     },
     "execution_count": 170,
     "metadata": {},
     "output_type": "execute_result"
    }
   ],
   "source": [
    "typeof(3//4)"
   ]
  },
  {
   "cell_type": "markdown",
   "metadata": {},
   "source": [
    "## Funções para tipos específicos"
   ]
  },
  {
   "cell_type": "code",
   "execution_count": 160,
   "metadata": {
    "collapsed": false
   },
   "outputs": [
    {
     "data": {
      "text/plain": [
       "estranha (generic function with 2 methods)"
      ]
     },
     "execution_count": 160,
     "metadata": {},
     "output_type": "execute_result"
    }
   ],
   "source": [
    "function estranha(x::Int)\n",
    "    return x + 1\n",
    "end\n",
    "\n",
    "function estranha(x::Float64)\n",
    "    return x - 1\n",
    "end"
   ]
  },
  {
   "cell_type": "code",
   "execution_count": 161,
   "metadata": {
    "collapsed": false
   },
   "outputs": [
    {
     "data": {
      "text/plain": [
       "1"
      ]
     },
     "execution_count": 161,
     "metadata": {},
     "output_type": "execute_result"
    }
   ],
   "source": [
    "estranha(0)"
   ]
  },
  {
   "cell_type": "code",
   "execution_count": 162,
   "metadata": {
    "collapsed": false
   },
   "outputs": [
    {
     "data": {
      "text/plain": [
       "-1.0"
      ]
     },
     "execution_count": 162,
     "metadata": {},
     "output_type": "execute_result"
    }
   ],
   "source": [
    "estranha(0.0)"
   ]
  },
  {
   "cell_type": "code",
   "execution_count": 164,
   "metadata": {
    "collapsed": false
   },
   "outputs": [
    {
     "ename": "LoadError",
     "evalue": "LoadError: MethodError: `estranha` has no method matching estranha(::ASCIIString)\nwhile loading In[164], in expression starting on line 1",
     "output_type": "error",
     "traceback": [
      "LoadError: MethodError: `estranha` has no method matching estranha(::ASCIIString)\nwhile loading In[164], in expression starting on line 1",
      ""
     ]
    }
   ],
   "source": [
    "estranha(\"\")"
   ]
  },
  {
   "cell_type": "markdown",
   "metadata": {},
   "source": [
    "Note que algumas funções são \"chatas\":"
   ]
  },
  {
   "cell_type": "code",
   "execution_count": 167,
   "metadata": {
    "collapsed": false
   },
   "outputs": [
    {
     "ename": "LoadError",
     "evalue": "LoadError: DomainError:\nsqrt will only return a complex result if called with a complex argument. Try sqrt(complex(x)).\nwhile loading In[167], in expression starting on line 1",
     "output_type": "error",
     "traceback": [
      "LoadError: DomainError:\nsqrt will only return a complex result if called with a complex argument. Try sqrt(complex(x)).\nwhile loading In[167], in expression starting on line 1",
      "",
      " in sqrt at math.jl:146"
     ]
    }
   ],
   "source": [
    "sqrt(-1)"
   ]
  },
  {
   "cell_type": "code",
   "execution_count": 168,
   "metadata": {
    "collapsed": false
   },
   "outputs": [
    {
     "data": {
      "text/plain": [
       "0.0 + 1.0im"
      ]
     },
     "execution_count": 168,
     "metadata": {},
     "output_type": "execute_result"
    }
   ],
   "source": [
    "sqrt(Complex(-1))"
   ]
  },
  {
   "cell_type": "markdown",
   "metadata": {},
   "source": [
    "Temos ainda os tipos especiais, úteis, mas que podem deixar seu código lento:"
   ]
  },
  {
   "cell_type": "code",
   "execution_count": 201,
   "metadata": {
    "collapsed": false
   },
   "outputs": [
    {
     "data": {
      "text/plain": [
       "0"
      ]
     },
     "execution_count": 201,
     "metadata": {},
     "output_type": "execute_result"
    }
   ],
   "source": [
    "(2^32)^4"
   ]
  },
  {
   "cell_type": "code",
   "execution_count": 176,
   "metadata": {
    "collapsed": false
   },
   "outputs": [
    {
     "data": {
      "text/plain": [
       "340282366920938463463374607431768211456"
      ]
     },
     "execution_count": 176,
     "metadata": {},
     "output_type": "execute_result"
    }
   ],
   "source": [
    "BigInt(2^32)^4"
   ]
  },
  {
   "cell_type": "code",
   "execution_count": 194,
   "metadata": {
    "collapsed": false
   },
   "outputs": [
    {
     "data": {
      "text/plain": [
       "0.0"
      ]
     },
     "execution_count": 194,
     "metadata": {},
     "output_type": "execute_result"
    }
   ],
   "source": [
    "1e-100^10"
   ]
  },
  {
   "cell_type": "code",
   "execution_count": 195,
   "metadata": {
    "collapsed": false
   },
   "outputs": [
    {
     "data": {
      "text/plain": [
       "1.000000000000000199918998026028854181900205164437319696086145393068052250525208e-1000"
      ]
     },
     "execution_count": 195,
     "metadata": {},
     "output_type": "execute_result"
    }
   ],
   "source": [
    "BigFloat(1e-100)^10"
   ]
  },
  {
   "cell_type": "markdown",
   "metadata": {},
   "source": [
    "## Plots"
   ]
  },
  {
   "cell_type": "code",
   "execution_count": 202,
   "metadata": {
    "collapsed": false
   },
   "outputs": [
    {
     "name": "stderr",
     "output_type": "stream",
     "text": [
      "INFO: Nothing to be done\n",
      "INFO: METADATA is out-of-date — you may not have the latest version of Winston\n",
      "INFO: Use `Pkg.update()` to get the latest versions of your packages\n",
      "\n",
      "WARNING: deprecated syntax \"AbstractVecOrMat{T} (\" at /home/abel/.julia/v0.4/Winston/src/Winston.jl:96.\n",
      "Use \"AbstractVecOrMat{T}(\" instead.\n",
      "INFO: Recompiling stale cache file /home/abel/.julia/lib/v0.4/Cairo.ji for module Cairo.\n",
      "INFO: Recompiling stale cache file /home/abel/.julia/lib/v0.4/Colors.ji for module Colors.\n",
      "INFO: Recompiling stale cache file /home/abel/.julia/lib/v0.4/FixedPointNumbers.ji for module FixedPointNumbers.\n",
      "INFO: Recompiling stale cache file /home/abel/.julia/lib/v0.4/ColorTypes.ji for module ColorTypes.\n",
      "INFO: Recompiling stale cache file /home/abel/.julia/lib/v0.4/Reexport.ji for module Reexport.\n",
      "INFO: Recompiling stale cache file /home/abel/.julia/lib/v0.4/Graphics.ji for module Graphics.\n",
      "WARNING: Base.String is deprecated, use AbstractString instead.\n",
      "  likely near /home/abel/.julia/v0.4/IniFile/src/IniFile.jl:24\n",
      "WARNING: Base.Nothing is deprecated, use Void instead.\n",
      "  likely near /home/abel/.julia/v0.4/IniFile/src/IniFile.jl:24\n",
      "WARNING: Union(args...) is deprecated, use Union{args...} instead.\n",
      " in depwarn at deprecated.jl:73\n",
      " in call at deprecated.jl:50\n",
      " in include at ./boot.jl:261\n",
      " in include_from_node1 at ./loading.jl:304\n",
      " in require at ./loading.jl:243\n",
      " in include at ./boot.jl:261\n",
      " in include_from_node1 at ./loading.jl:304\n",
      " in require at ./loading.jl:243\n",
      " in include_string at loading.jl:266\n",
      " in execute_request_0x535c5df2 at /home/abel/.julia/v0.4/IJulia/src/execute_request.jl:177\n",
      " in eventloop at /home/abel/.julia/v0.4/IJulia/src/IJulia.jl:141\n",
      " in anonymous at task.jl:447\n",
      "while loading /home/abel/.julia/v0.4/IniFile/src/IniFile.jl, in expression starting on line 24\n",
      "WARNING: Base.String is deprecated, use AbstractString instead.\n",
      "  likely near /home/abel/.julia/v0.4/IniFile/src/IniFile.jl:25\n",
      "WARNING: Base.String is deprecated, use AbstractString instead.\n",
      "  likely near /home/abel/.julia/v0.4/IniFile/src/IniFile.jl:27\n",
      "WARNING: Base.String is deprecated, use AbstractString instead.\n",
      "  likely near /home/abel/.julia/v0.4/IniFile/src/IniFile.jl:27\n",
      "WARNING: Base.String is deprecated, use AbstractString instead.\n",
      "  likely near /home/abel/.julia/v0.4/IniFile/src/IniFile.jl:71\n",
      "WARNING: Base.String is deprecated, use AbstractString instead.\n",
      "  likely near /home/abel/.julia/v0.4/IniFile/src/IniFile.jl:91\n",
      "WARNING: Base.String is deprecated, use AbstractString instead.\n",
      "  likely near /home/abel/.julia/v0.4/IniFile/src/IniFile.jl:91\n",
      "WARNING: Base.String is deprecated, use AbstractString instead.\n",
      "  likely near /home/abel/.julia/v0.4/IniFile/src/IniFile.jl:93\n",
      "WARNING: Base.String is deprecated, use AbstractString instead.\n",
      "  likely near /home/abel/.julia/v0.4/IniFile/src/IniFile.jl:93\n",
      "WARNING: Base.String is deprecated, use AbstractString instead.\n",
      "  likely near /home/abel/.julia/v0.4/IniFile/src/IniFile.jl:103\n",
      "WARNING: Base.String is deprecated, use AbstractString instead.\n",
      "  likely near /home/abel/.julia/v0.4/IniFile/src/IniFile.jl:105\n",
      "WARNING: Base.String is deprecated, use AbstractString instead.\n",
      "  likely near /home/abel/.julia/v0.4/IniFile/src/IniFile.jl:112\n",
      "WARNING: Base.String is deprecated, use AbstractString instead.\n",
      "  likely near /home/abel/.julia/v0.4/IniFile/src/IniFile.jl:112\n",
      "WARNING: Base.String is deprecated, use AbstractString instead.\n",
      "  likely near /home/abel/.julia/v0.4/IniFile/src/IniFile.jl:130\n",
      "WARNING: Base.String is deprecated, use AbstractString instead.\n",
      "  likely near /home/abel/.julia/v0.4/IniFile/src/IniFile.jl:142\n",
      "WARNING: Base.String is deprecated, use AbstractString instead.\n",
      "  likely near /home/abel/.julia/v0.4/IniFile/src/IniFile.jl:142\n",
      "WARNING: Base.String is deprecated, use AbstractString instead.\n",
      "  likely near /home/abel/.julia/v0.4/IniFile/src/IniFile.jl:145\n",
      "WARNING: Base.String is deprecated, use AbstractString instead.\n",
      "  likely near /home/abel/.julia/v0.4/IniFile/src/IniFile.jl:145\n",
      "WARNING: Base.String is deprecated, use AbstractString instead.\n",
      "  likely near /home/abel/.julia/v0.4/IniFile/src/IniFile.jl:148\n",
      "WARNING: Base.String is deprecated, use AbstractString instead.\n",
      "  likely near /home/abel/.julia/v0.4/IniFile/src/IniFile.jl:148\n",
      "WARNING: Base.String is deprecated, use AbstractString instead.\n",
      "  likely near /home/abel/.julia/v0.4/IniFile/src/IniFile.jl:151\n",
      "WARNING: Base.String is deprecated, use AbstractString instead.\n",
      "  likely near /home/abel/.julia/v0.4/IniFile/src/IniFile.jl:151\n",
      "WARNING: Base.String is deprecated, use AbstractString instead.\n",
      "  likely near /home/abel/.julia/v0.4/IniFile/src/IniFile.jl:154\n",
      "WARNING: Base.String is deprecated, use AbstractString instead.\n",
      "  likely near /home/abel/.julia/v0.4/IniFile/src/IniFile.jl:156\n",
      "WARNING: requiring \"Dates\" in module \"Winston\" did not define a corresponding module.\n",
      "WARNING: Base.String is deprecated, use AbstractString instead.\n",
      "  likely near /home/abel/.julia/v0.4/Winston/src/config.jl:3\n",
      "WARNING: Base.String is deprecated, use AbstractString instead.\n",
      "  likely near /home/abel/.julia/v0.4/Winston/src/config.jl:3\n",
      "WARNING: Base.String is deprecated, use AbstractString instead.\n",
      "  likely near /home/abel/.julia/v0.4/Winston/src/config.jl:3\n",
      "WARNING: Base.String is deprecated, use AbstractString instead.\n",
      "  likely near /home/abel/.julia/v0.4/Winston/src/config.jl:3\n",
      "WARNING: module Winston should explicitly import * from Base\n"
     ]
    }
   ],
   "source": [
    "Pkg.add(\"Winston\")\n",
    "using Winston"
   ]
  },
  {
   "cell_type": "code",
   "execution_count": 203,
   "metadata": {
    "collapsed": false
   },
   "outputs": [
    {
     "data": {
      "image/png": "[encoded data removed]",
      "text/plain": [
       "Winston.FramedPlot(...)"
      ]
     },
     "execution_count": 203,
     "metadata": {},
     "output_type": "execute_result"
    }
   ],
   "source": [
    "t = linspace(0, 1, 100);\n",
    "plot(t, t.^2)"
   ]
  },
  {
   "cell_type": "code",
   "execution_count": 204,
   "metadata": {
    "collapsed": false
   },
   "outputs": [
    {
     "data": {
      "image/png": "[encoded data removed]",
      "text/plain": [
       "Winston.FramedPlot(...)"
      ]
     },
     "execution_count": 204,
     "metadata": {},
     "output_type": "execute_result"
    }
   ],
   "source": [
    "oplot(t, sin(2π*t))"
   ]
  },
  {
   "cell_type": "code",
   "execution_count": 206,
   "metadata": {
    "collapsed": false
   },
   "outputs": [
    {
     "data": {
      "image/png": "[encoded data removed]",
      "text/plain": [
       "Winston.FramedPlot(...)"
      ]
     },
     "execution_count": 206,
     "metadata": {},
     "output_type": "execute_result"
    }
   ],
   "source": [
    "oplot(t, cos(2π*t), \"b:\")"
   ]
  },
  {
   "cell_type": "code",
   "execution_count": 210,
   "metadata": {
    "collapsed": false
   },
   "outputs": [],
   "source": [
    "p = FramedPlot()\n",
    "colors = [\"blue\", \"red\", \"green\"]\n",
    "for i = 1:3\n",
    "    add(p, Curve(t, t.^i, color=colors[i]))\n",
    "    add(p, Points(rand(10), rand(10), color=colors[i]))\n",
    "end\n",
    "savefig(p, \"teste.png\", \"width\", 500, \"height\", 500)"
   ]
  },
  {
   "cell_type": "code",
   "execution_count": 211,
   "metadata": {
    "collapsed": false
   },
   "outputs": [
    {
     "data": {
      "image/png": "[encoded data removed]",
      "text/plain": [
       "Winston.FramedPlot(...)"
      ]
     },
     "metadata": {},
     "output_type": "display_data"
    }
   ],
   "source": [
    "display(p)"
   ]
  },
  {
   "cell_type": "markdown",
   "metadata": {},
   "source": [
    "## Coisas incomuns para MatLab\n",
    "\n",
    "Alguns coisas comuns em outras linguagens, tipo o Python."
   ]
  },
  {
   "cell_type": "code",
   "execution_count": 214,
   "metadata": {
    "collapsed": false
   },
   "outputs": [
    {
     "name": "stdout",
     "output_type": "stream",
     "text": [
      "color blue\n",
      "color red\n",
      "color green\n"
     ]
    }
   ],
   "source": [
    "# Para cada elemento de um conjunto\n",
    "for x in [\"blue\", \"red\", \"green\"]\n",
    "    println(\"color $x\")\n",
    "end"
   ]
  },
  {
   "cell_type": "code",
   "execution_count": 216,
   "metadata": {
    "collapsed": false
   },
   "outputs": [
    {
     "name": "stdout",
     "output_type": "stream",
     "text": [
      "a = 2, b = 3\n"
     ]
    }
   ],
   "source": [
    "# Tuplas\n",
    "(a, b) = (2,3)\n",
    "println(\"a = $a, b = $b\")"
   ]
  },
  {
   "cell_type": "code",
   "execution_count": 218,
   "metadata": {
    "collapsed": false
   },
   "outputs": [
    {
     "name": "stdout",
     "output_type": "stream",
     "text": [
      "color Nᵒ1: blue\n",
      "color Nᵒ2: red\n",
      "color Nᵒ3: green\n"
     ]
    }
   ],
   "source": [
    "# For com tupla\n",
    "for (i,x) in enumerate([\"blue\", \"red\", \"green\"])\n",
    "    println(\"color Nᵒ$i: $x\")\n",
    "end"
   ]
  },
  {
   "cell_type": "code",
   "execution_count": 222,
   "metadata": {
    "collapsed": false
   },
   "outputs": [
    {
     "name": "stdout",
     "output_type": "stream",
     "text": [
      "1! = 1\n",
      "2! = 2\n",
      "3! = 6\n",
      "4! = 24\n",
      "5! = 120\n",
      "6! = 720\n"
     ]
    }
   ],
   "source": [
    "# Operador ternário\n",
    "F(n::Int) = n < 2 ? 1 : F(n-1)*n\n",
    "for n = 1:6\n",
    "    println(\"$(n)! = $(F(n))\")\n",
    "end"
   ]
  },
  {
   "cell_type": "code",
   "execution_count": 234,
   "metadata": {
    "collapsed": false
   },
   "outputs": [
    {
     "data": {
      "text/plain": [
       "bhaskara (generic function with 1 method)"
      ]
     },
     "execution_count": 234,
     "metadata": {},
     "output_type": "execute_result"
    }
   ],
   "source": [
    "# Short-circuit\n",
    "function bhaskara(a, b, c)\n",
    "    a == 0 && error(\"Primeiro argumento não pode ser 0\")\n",
    "    Δ = b^2 - 4a*c\n",
    "    Δ = Δ >= 0 ? sqrt(Δ) : sqrt(Complex(Δ))\n",
    "    return (-b+Δ)/2a, (-b-Δ)/2a\n",
    "end"
   ]
  },
  {
   "cell_type": "code",
   "execution_count": 235,
   "metadata": {
    "collapsed": false
   },
   "outputs": [
    {
     "ename": "LoadError",
     "evalue": "LoadError: Primeiro argumento não pode ser 0\nwhile loading In[235], in expression starting on line 1",
     "output_type": "error",
     "traceback": [
      "LoadError: Primeiro argumento não pode ser 0\nwhile loading In[235], in expression starting on line 1",
      "",
      " in bhaskara at In[234]:3"
     ]
    }
   ],
   "source": [
    "bhaskara(0, 0, 1)"
   ]
  },
  {
   "cell_type": "code",
   "execution_count": 236,
   "metadata": {
    "collapsed": false
   },
   "outputs": [
    {
     "data": {
      "text/plain": [
       "5-element Array{Int64,1}:\n",
       "  1\n",
       "  4\n",
       "  9\n",
       " 16\n",
       " 25"
      ]
     },
     "execution_count": 236,
     "metadata": {},
     "output_type": "execute_result"
    }
   ],
   "source": [
    "# Compreensão de vetor\n",
    "[i^2 for i = 1:5]"
   ]
  },
  {
   "cell_type": "code",
   "execution_count": 237,
   "metadata": {
    "collapsed": false
   },
   "outputs": [
    {
     "data": {
      "text/plain": [
       "4-element Array{Float64,1}:\n",
       " 0.0     \n",
       " 0.693147\n",
       " 1.09861 \n",
       " 1.38629 "
      ]
     },
     "execution_count": 237,
     "metadata": {},
     "output_type": "execute_result"
    }
   ],
   "source": [
    "[log(x) for x = 1:4]"
   ]
  },
  {
   "cell_type": "code",
   "execution_count": 238,
   "metadata": {
    "collapsed": false
   },
   "outputs": [
    {
     "data": {
      "text/plain": [
       "4x4 Array{Rational{Int64},2}:\n",
       " 1//1  1//2  1//3  1//4\n",
       " 1//2  1//3  1//4  1//5\n",
       " 1//3  1//4  1//5  1//6\n",
       " 1//4  1//5  1//6  1//7"
      ]
     },
     "execution_count": 238,
     "metadata": {},
     "output_type": "execute_result"
    }
   ],
   "source": [
    "[1//(i+j-1) for i = 1:4, j = 1:4]"
   ]
  }
 ],
 "metadata": {
  "kernelspec": {
   "display_name": "Julia 0.4.0",
   "language": "julia",
   "name": "julia-0.4"
  },
  "language_info": {
   "file_extension": ".jl",
   "mimetype": "application/julia",
   "name": "julia",
   "version": "0.4.0"
  }
 },
 "nbformat": 4,
 "nbformat_minor": 0
}
